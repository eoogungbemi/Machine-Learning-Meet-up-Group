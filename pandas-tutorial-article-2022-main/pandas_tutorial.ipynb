{
 "cells": [
  {
   "cell_type": "markdown",
   "id": "3XE-GC7PvOBN",
   "metadata": {
    "id": "3XE-GC7PvOBN"
   },
   "source": [
    "# Pandas Complete tutorial for data science in 2022\n",
    "\n",
    "This is part of the original article [Pandas Complete tutorial for data science in 2022](https://norochalise.medium.com/pandas-complete-tutorial-for-data-science-in-2022-685a4c6df347)\n"
   ]
  },
  {
   "cell_type": "markdown",
   "id": "q72dXwaog4h7",
   "metadata": {
    "id": "q72dXwaog4h7"
   },
   "source": [
    "## 1. Setup\n"
   ]
  },
  {
   "cell_type": "markdown",
   "id": "vSvx8LjDp6Yh",
   "metadata": {
    "id": "vSvx8LjDp6Yh"
   },
   "source": [
    "### Import\n",
    "\n",
    "Before moving on to learn pandas first we need to install it and import it. If you install [Anaconda distributions](https://www.anaconda.com/) on your local machine or using [Google Colab](https://research.google.com/colaboratory) then pandas will already be available there, otherwise, you follow this installation process from [pandas official's website](https://pandas.pydata.org/docs/getting_started/install.html)."
   ]
  },
  {
   "cell_type": "code",
   "execution_count": 7,
   "id": "e7dcee3a",
   "metadata": {
    "id": "e7dcee3a"
   },
   "outputs": [],
   "source": [
    "# Importing libraries\n",
    "import numpy as np\n",
    "import pandas as pd"
   ]
  },
  {
   "cell_type": "code",
   "execution_count": 8,
   "id": "CeSsGkTMiMcI",
   "metadata": {
    "id": "CeSsGkTMiMcI"
   },
   "outputs": [],
   "source": [
    "# we can set numbers for how many rows and columns will be displayed\n",
    "pd.set_option('display.min_rows', 10) #default will be 10 \n",
    "pd.set_option('display.max_columns', 20)"
   ]
  },
  {
   "cell_type": "markdown",
   "id": "68cb06b1",
   "metadata": {
    "id": "68cb06b1"
   },
   "source": [
    "## 2. Loading Different Data Formats Into a Pandas Data Frame\n",
    "\n",
    "\n"
   ]
  },
  {
   "cell_type": "markdown",
   "id": "7_X0klbRI24J",
   "metadata": {
    "id": "7_X0klbRI24J"
   },
   "source": [
    "### Reading CSV file\n"
   ]
  },
  {
   "cell_type": "code",
   "execution_count": 9,
   "id": "56739039",
   "metadata": {
    "colab": {
     "base_uri": "https://localhost:8080/",
     "height": 225
    },
    "id": "56739039",
    "outputId": "2550e4e4-8c6c-47eb-a005-a57c3990ffc0"
   },
   "outputs": [
    {
     "data": {
      "text/html": [
       "<div>\n",
       "<style scoped>\n",
       "    .dataframe tbody tr th:only-of-type {\n",
       "        vertical-align: middle;\n",
       "    }\n",
       "\n",
       "    .dataframe tbody tr th {\n",
       "        vertical-align: top;\n",
       "    }\n",
       "\n",
       "    .dataframe thead th {\n",
       "        text-align: right;\n",
       "    }\n",
       "</style>\n",
       "<table border=\"1\" class=\"dataframe\">\n",
       "  <thead>\n",
       "    <tr style=\"text-align: right;\">\n",
       "      <th></th>\n",
       "      <th>Transaction_date</th>\n",
       "      <th>Transaction_ID</th>\n",
       "      <th>Gender</th>\n",
       "      <th>Age</th>\n",
       "      <th>Marital_status</th>\n",
       "      <th>State_names</th>\n",
       "      <th>Segment</th>\n",
       "      <th>Employees_status</th>\n",
       "      <th>Payment_method</th>\n",
       "      <th>Referal</th>\n",
       "      <th>Amount_spent</th>\n",
       "    </tr>\n",
       "  </thead>\n",
       "  <tbody>\n",
       "    <tr>\n",
       "      <th>0</th>\n",
       "      <td>1/1/2019</td>\n",
       "      <td>151200</td>\n",
       "      <td>Female</td>\n",
       "      <td>19.0</td>\n",
       "      <td>Single</td>\n",
       "      <td>Kansas</td>\n",
       "      <td>Basic</td>\n",
       "      <td>Unemployment</td>\n",
       "      <td>Other</td>\n",
       "      <td>1.0</td>\n",
       "      <td>2051.36</td>\n",
       "    </tr>\n",
       "    <tr>\n",
       "      <th>1</th>\n",
       "      <td>1/1/2019</td>\n",
       "      <td>151201</td>\n",
       "      <td>Male</td>\n",
       "      <td>49.0</td>\n",
       "      <td>Single</td>\n",
       "      <td>Illinois</td>\n",
       "      <td>Basic</td>\n",
       "      <td>self-employed</td>\n",
       "      <td>Card</td>\n",
       "      <td>0.0</td>\n",
       "      <td>544.04</td>\n",
       "    </tr>\n",
       "    <tr>\n",
       "      <th>2</th>\n",
       "      <td>1/1/2019</td>\n",
       "      <td>151202</td>\n",
       "      <td>Male</td>\n",
       "      <td>63.0</td>\n",
       "      <td>Married</td>\n",
       "      <td>New Mexico</td>\n",
       "      <td>Basic</td>\n",
       "      <td>workers</td>\n",
       "      <td>PayPal</td>\n",
       "      <td>1.0</td>\n",
       "      <td>1572.60</td>\n",
       "    </tr>\n",
       "  </tbody>\n",
       "</table>\n",
       "</div>"
      ],
      "text/plain": [
       "  Transaction_date  Transaction_ID  Gender   Age Marital_status State_names  \\\n",
       "0         1/1/2019          151200  Female  19.0         Single      Kansas   \n",
       "1         1/1/2019          151201    Male  49.0         Single    Illinois   \n",
       "2         1/1/2019          151202    Male  63.0        Married  New Mexico   \n",
       "\n",
       "  Segment Employees_status Payment_method  Referal  Amount_spent  \n",
       "0   Basic     Unemployment          Other      1.0       2051.36  \n",
       "1   Basic    self-employed           Card      0.0        544.04  \n",
       "2   Basic          workers         PayPal      1.0       1572.60  "
      ]
     },
     "execution_count": 9,
     "metadata": {},
     "output_type": "execute_result"
    }
   ],
   "source": [
    "# read csv file\n",
    "\n",
    "df = pd.read_csv('dataset/online_store_customer_data.csv')\n",
    "df.head(3)"
   ]
  },
  {
   "cell_type": "code",
   "execution_count": 10,
   "id": "jNRVw6Xk_zGE",
   "metadata": {
    "colab": {
     "base_uri": "https://localhost:8080/",
     "height": 187
    },
    "id": "jNRVw6Xk_zGE",
    "outputId": "5e94d5c8-5a8f-4e5a-e35a-eac2f25d80a4"
   },
   "outputs": [
    {
     "data": {
      "text/html": [
       "<div>\n",
       "<style scoped>\n",
       "    .dataframe tbody tr th:only-of-type {\n",
       "        vertical-align: middle;\n",
       "    }\n",
       "\n",
       "    .dataframe tbody tr th {\n",
       "        vertical-align: top;\n",
       "    }\n",
       "\n",
       "    .dataframe thead th {\n",
       "        text-align: right;\n",
       "    }\n",
       "</style>\n",
       "<table border=\"1\" class=\"dataframe\">\n",
       "  <thead>\n",
       "    <tr style=\"text-align: right;\">\n",
       "      <th></th>\n",
       "      <th>0</th>\n",
       "      <th>1</th>\n",
       "      <th>2</th>\n",
       "      <th>3</th>\n",
       "      <th>4</th>\n",
       "      <th>5</th>\n",
       "      <th>6</th>\n",
       "      <th>7</th>\n",
       "      <th>8</th>\n",
       "      <th>9</th>\n",
       "      <th>10</th>\n",
       "    </tr>\n",
       "  </thead>\n",
       "  <tbody>\n",
       "    <tr>\n",
       "      <th>0</th>\n",
       "      <td>1/1/2019</td>\n",
       "      <td>151201</td>\n",
       "      <td>Male</td>\n",
       "      <td>49.0</td>\n",
       "      <td>Single</td>\n",
       "      <td>Illinois</td>\n",
       "      <td>Basic</td>\n",
       "      <td>self-employed</td>\n",
       "      <td>Card</td>\n",
       "      <td>0.0</td>\n",
       "      <td>544.04</td>\n",
       "    </tr>\n",
       "    <tr>\n",
       "      <th>1</th>\n",
       "      <td>1/1/2019</td>\n",
       "      <td>151202</td>\n",
       "      <td>Male</td>\n",
       "      <td>63.0</td>\n",
       "      <td>Married</td>\n",
       "      <td>New Mexico</td>\n",
       "      <td>Basic</td>\n",
       "      <td>workers</td>\n",
       "      <td>PayPal</td>\n",
       "      <td>1.0</td>\n",
       "      <td>1572.60</td>\n",
       "    </tr>\n",
       "    <tr>\n",
       "      <th>2</th>\n",
       "      <td>1/1/2019</td>\n",
       "      <td>151203</td>\n",
       "      <td>NaN</td>\n",
       "      <td>18.0</td>\n",
       "      <td>Single</td>\n",
       "      <td>Virginia</td>\n",
       "      <td>Platinum</td>\n",
       "      <td>workers</td>\n",
       "      <td>Card</td>\n",
       "      <td>1.0</td>\n",
       "      <td>1199.79</td>\n",
       "    </tr>\n",
       "  </tbody>\n",
       "</table>\n",
       "</div>"
      ],
      "text/plain": [
       "         0       1     2     3        4           5         6              7   \\\n",
       "0  1/1/2019  151201  Male  49.0   Single    Illinois     Basic  self-employed   \n",
       "1  1/1/2019  151202  Male  63.0  Married  New Mexico     Basic        workers   \n",
       "2  1/1/2019  151203   NaN  18.0   Single    Virginia  Platinum        workers   \n",
       "\n",
       "       8    9        10  \n",
       "0    Card  0.0   544.04  \n",
       "1  PayPal  1.0  1572.60  \n",
       "2    Card  1.0  1199.79  "
      ]
     },
     "execution_count": 10,
     "metadata": {},
     "output_type": "execute_result"
    }
   ],
   "source": [
    "# Loading csv file with skip first 2 rows without header\n",
    "df_csv = pd.read_csv('dataset/online_store_customer_data.csv', skiprows=2, header=None)\n",
    "df_csv.head(3)"
   ]
  },
  {
   "cell_type": "markdown",
   "id": "qNhba27PwpUa",
   "metadata": {
    "id": "qNhba27PwpUa"
   },
   "source": [
    "### Read CSV file from URL"
   ]
  },
  {
   "cell_type": "code",
   "execution_count": 11,
   "id": "ZdhOBOE7xXW0",
   "metadata": {
    "id": "ZdhOBOE7xXW0"
   },
   "outputs": [
    {
     "data": {
      "text/html": [
       "<div>\n",
       "<style scoped>\n",
       "    .dataframe tbody tr th:only-of-type {\n",
       "        vertical-align: middle;\n",
       "    }\n",
       "\n",
       "    .dataframe tbody tr th {\n",
       "        vertical-align: top;\n",
       "    }\n",
       "\n",
       "    .dataframe thead th {\n",
       "        text-align: right;\n",
       "    }\n",
       "</style>\n",
       "<table border=\"1\" class=\"dataframe\">\n",
       "  <thead>\n",
       "    <tr style=\"text-align: right;\">\n",
       "      <th></th>\n",
       "      <th>Transaction_date</th>\n",
       "      <th>Transaction_ID</th>\n",
       "      <th>Gender</th>\n",
       "      <th>Age</th>\n",
       "      <th>Marital_status</th>\n",
       "      <th>State_names</th>\n",
       "      <th>Segment</th>\n",
       "      <th>Employees_status</th>\n",
       "      <th>Payment_method</th>\n",
       "      <th>Referal</th>\n",
       "      <th>Amount_spent</th>\n",
       "    </tr>\n",
       "  </thead>\n",
       "  <tbody>\n",
       "    <tr>\n",
       "      <th>0</th>\n",
       "      <td>1/1/2019</td>\n",
       "      <td>151200</td>\n",
       "      <td>Female</td>\n",
       "      <td>19.0</td>\n",
       "      <td>Single</td>\n",
       "      <td>Kansas</td>\n",
       "      <td>Basic</td>\n",
       "      <td>Unemployment</td>\n",
       "      <td>Other</td>\n",
       "      <td>1.0</td>\n",
       "      <td>2051.36</td>\n",
       "    </tr>\n",
       "    <tr>\n",
       "      <th>1</th>\n",
       "      <td>1/1/2019</td>\n",
       "      <td>151201</td>\n",
       "      <td>Male</td>\n",
       "      <td>49.0</td>\n",
       "      <td>Single</td>\n",
       "      <td>Illinois</td>\n",
       "      <td>Basic</td>\n",
       "      <td>self-employed</td>\n",
       "      <td>Card</td>\n",
       "      <td>0.0</td>\n",
       "      <td>544.04</td>\n",
       "    </tr>\n",
       "    <tr>\n",
       "      <th>2</th>\n",
       "      <td>1/1/2019</td>\n",
       "      <td>151202</td>\n",
       "      <td>Male</td>\n",
       "      <td>63.0</td>\n",
       "      <td>Married</td>\n",
       "      <td>New Mexico</td>\n",
       "      <td>Basic</td>\n",
       "      <td>workers</td>\n",
       "      <td>PayPal</td>\n",
       "      <td>1.0</td>\n",
       "      <td>1572.60</td>\n",
       "    </tr>\n",
       "  </tbody>\n",
       "</table>\n",
       "</div>"
      ],
      "text/plain": [
       "  Transaction_date  Transaction_ID  Gender   Age Marital_status State_names  \\\n",
       "0         1/1/2019          151200  Female  19.0         Single      Kansas   \n",
       "1         1/1/2019          151201    Male  49.0         Single    Illinois   \n",
       "2         1/1/2019          151202    Male  63.0        Married  New Mexico   \n",
       "\n",
       "  Segment Employees_status Payment_method  Referal  Amount_spent  \n",
       "0   Basic     Unemployment          Other      1.0       2051.36  \n",
       "1   Basic    self-employed           Card      0.0        544.04  \n",
       "2   Basic          workers         PayPal      1.0       1572.60  "
      ]
     },
     "execution_count": 11,
     "metadata": {},
     "output_type": "execute_result"
    }
   ],
   "source": [
    "# Read csv file from url\n",
    "url=\"https://raw.githubusercontent.com/norochalise/medium/main/pandas_tutorial/dataset/online_store_customer_data.csv\"\n",
    "df_url = pd.read_csv(url)\n",
    "df_url.head(3)"
   ]
  },
  {
   "cell_type": "markdown",
   "id": "h6bQJPx5zJEm",
   "metadata": {
    "id": "h6bQJPx5zJEm"
   },
   "source": [
    "### Write CSV file"
   ]
  },
  {
   "cell_type": "code",
   "execution_count": 12,
   "id": "uykhkL_7zSMu",
   "metadata": {
    "id": "uykhkL_7zSMu"
   },
   "outputs": [],
   "source": [
    "# saving df_url dataframe to csv file\n",
    "df_url.to_csv('dataset/csv_from_url.csv')\n",
    "df_url.to_csv('dataset/demo_text.txt')"
   ]
  },
  {
   "cell_type": "markdown",
   "id": "hZCC2_gp1Qcm",
   "metadata": {
    "id": "hZCC2_gp1Qcm"
   },
   "source": [
    "### Read text file"
   ]
  },
  {
   "cell_type": "code",
   "execution_count": 13,
   "id": "i9Adg1q32Hkj",
   "metadata": {
    "id": "i9Adg1q32Hkj"
   },
   "outputs": [],
   "source": [
    "# read plain text file\n",
    "df_txt = pd.read_csv(\"dataset/demo_text.txt\")"
   ]
  },
  {
   "cell_type": "markdown",
   "id": "W0hKEl_pJ4M3",
   "metadata": {
    "id": "W0hKEl_pJ4M3"
   },
   "source": [
    "### Read Excel file"
   ]
  },
  {
   "cell_type": "code",
   "execution_count": 14,
   "id": "Qb_pWVKFMq4E",
   "metadata": {
    "colab": {
     "base_uri": "https://localhost:8080/",
     "height": 239
    },
    "id": "Qb_pWVKFMq4E",
    "outputId": "c683a276-39ee-4bd1-f871-de14d178b5b0"
   },
   "outputs": [
    {
     "data": {
      "text/html": [
       "<div>\n",
       "<style scoped>\n",
       "    .dataframe tbody tr th:only-of-type {\n",
       "        vertical-align: middle;\n",
       "    }\n",
       "\n",
       "    .dataframe tbody tr th {\n",
       "        vertical-align: top;\n",
       "    }\n",
       "\n",
       "    .dataframe thead th {\n",
       "        text-align: right;\n",
       "    }\n",
       "</style>\n",
       "<table border=\"1\" class=\"dataframe\">\n",
       "  <thead>\n",
       "    <tr style=\"text-align: right;\">\n",
       "      <th></th>\n",
       "      <th>Transaction_date</th>\n",
       "      <th>Transaction_ID</th>\n",
       "      <th>Gender</th>\n",
       "      <th>Age</th>\n",
       "      <th>Marital_status</th>\n",
       "      <th>State_names</th>\n",
       "      <th>Segment</th>\n",
       "      <th>Employees_status</th>\n",
       "      <th>Payment_method</th>\n",
       "      <th>Referal</th>\n",
       "      <th>Amount_spent</th>\n",
       "    </tr>\n",
       "  </thead>\n",
       "  <tbody>\n",
       "    <tr>\n",
       "      <th>0</th>\n",
       "      <td>3/10/2019</td>\n",
       "      <td>151378</td>\n",
       "      <td>Female</td>\n",
       "      <td>25</td>\n",
       "      <td>Single</td>\n",
       "      <td>Wyoming</td>\n",
       "      <td>Platinum</td>\n",
       "      <td>Unemployment</td>\n",
       "      <td>Card</td>\n",
       "      <td>1</td>\n",
       "      <td>2740.57</td>\n",
       "    </tr>\n",
       "    <tr>\n",
       "      <th>1</th>\n",
       "      <td>7/2/2019</td>\n",
       "      <td>151751</td>\n",
       "      <td>Female</td>\n",
       "      <td>42</td>\n",
       "      <td>Single</td>\n",
       "      <td>Delaware</td>\n",
       "      <td>Basic</td>\n",
       "      <td>Unemployment</td>\n",
       "      <td>Card</td>\n",
       "      <td>0</td>\n",
       "      <td>977.80</td>\n",
       "    </tr>\n",
       "    <tr>\n",
       "      <th>2</th>\n",
       "      <td>6/14/2019</td>\n",
       "      <td>151689</td>\n",
       "      <td>Male</td>\n",
       "      <td>38</td>\n",
       "      <td>Married</td>\n",
       "      <td>Montana</td>\n",
       "      <td>Basic</td>\n",
       "      <td>workers</td>\n",
       "      <td>PayPal</td>\n",
       "      <td>1</td>\n",
       "      <td>2978.21</td>\n",
       "    </tr>\n",
       "    <tr>\n",
       "      <th>3</th>\n",
       "      <td>8/5/2019</td>\n",
       "      <td>151849</td>\n",
       "      <td>Male</td>\n",
       "      <td>24</td>\n",
       "      <td>Married</td>\n",
       "      <td>Rhode Island</td>\n",
       "      <td>Basic</td>\n",
       "      <td>workers</td>\n",
       "      <td>Card</td>\n",
       "      <td>1</td>\n",
       "      <td>1157.79</td>\n",
       "    </tr>\n",
       "  </tbody>\n",
       "</table>\n",
       "</div>"
      ],
      "text/plain": [
       "  Transaction_date  Transaction_ID  Gender  Age Marital_status   State_names  \\\n",
       "0        3/10/2019          151378  Female   25         Single       Wyoming   \n",
       "1         7/2/2019          151751  Female   42         Single      Delaware   \n",
       "2        6/14/2019          151689    Male   38        Married       Montana   \n",
       "3         8/5/2019          151849    Male   24        Married  Rhode Island   \n",
       "\n",
       "    Segment Employees_status Payment_method  Referal  Amount_spent  \n",
       "0  Platinum     Unemployment           Card        1       2740.57  \n",
       "1     Basic     Unemployment           Card        0        977.80  \n",
       "2     Basic          workers         PayPal        1       2978.21  \n",
       "3     Basic          workers           Card        1       1157.79  "
      ]
     },
     "execution_count": 14,
     "metadata": {},
     "output_type": "execute_result"
    }
   ],
   "source": [
    "# read excel file\n",
    "df_excel = pd.read_excel('dataset/excel_file.xlsx', sheet_name='Sheet1')\n",
    "df_excel"
   ]
  },
  {
   "cell_type": "markdown",
   "id": "4JZevqX3N0Zl",
   "metadata": {
    "id": "4JZevqX3N0Zl"
   },
   "source": [
    "### Write Excel file"
   ]
  },
  {
   "cell_type": "code",
   "execution_count": 15,
   "id": "x8soGD0I02RB",
   "metadata": {
    "id": "x8soGD0I02RB"
   },
   "outputs": [],
   "source": [
    "# save dataframe to the excel file\n",
    "df_url.to_csv('demo.xlsx')"
   ]
  },
  {
   "cell_type": "markdown",
   "id": "10a5b306",
   "metadata": {
    "id": "10a5b306"
   },
   "source": [
    "## 3. Data preprocessing\n",
    "Data preprocessing is the process of making raw data to clean data. This is the most crucial part of data the science. In this section, we will explore data first then we remove unwanted columns, remove duplicates, handle missing data, etc. After this step, we get clean data from raw data."
   ]
  },
  {
   "cell_type": "markdown",
   "id": "2098e35f",
   "metadata": {
    "id": "2098e35f"
   },
   "source": [
    "### 3.1 Data Exploring"
   ]
  },
  {
   "cell_type": "markdown",
   "id": "aHKv7GbtBGG5",
   "metadata": {
    "id": "aHKv7GbtBGG5"
   },
   "source": [
    "#### Retrieving rows from data frame."
   ]
  },
  {
   "cell_type": "code",
   "execution_count": 16,
   "id": "cbc7a3df",
   "metadata": {
    "colab": {
     "base_uri": "https://localhost:8080/",
     "height": 225
    },
    "id": "cbc7a3df",
    "outputId": "29db4b44-340c-42fd-c251-509c11391231"
   },
   "outputs": [
    {
     "data": {
      "text/html": [
       "<div>\n",
       "<style scoped>\n",
       "    .dataframe tbody tr th:only-of-type {\n",
       "        vertical-align: middle;\n",
       "    }\n",
       "\n",
       "    .dataframe tbody tr th {\n",
       "        vertical-align: top;\n",
       "    }\n",
       "\n",
       "    .dataframe thead th {\n",
       "        text-align: right;\n",
       "    }\n",
       "</style>\n",
       "<table border=\"1\" class=\"dataframe\">\n",
       "  <thead>\n",
       "    <tr style=\"text-align: right;\">\n",
       "      <th></th>\n",
       "      <th>Transaction_date</th>\n",
       "      <th>Transaction_ID</th>\n",
       "      <th>Gender</th>\n",
       "      <th>Age</th>\n",
       "      <th>Marital_status</th>\n",
       "      <th>State_names</th>\n",
       "      <th>Segment</th>\n",
       "      <th>Employees_status</th>\n",
       "      <th>Payment_method</th>\n",
       "      <th>Referal</th>\n",
       "      <th>Amount_spent</th>\n",
       "    </tr>\n",
       "  </thead>\n",
       "  <tbody>\n",
       "    <tr>\n",
       "      <th>0</th>\n",
       "      <td>1/1/2019</td>\n",
       "      <td>151200</td>\n",
       "      <td>Female</td>\n",
       "      <td>19.0</td>\n",
       "      <td>Single</td>\n",
       "      <td>Kansas</td>\n",
       "      <td>Basic</td>\n",
       "      <td>Unemployment</td>\n",
       "      <td>Other</td>\n",
       "      <td>1.0</td>\n",
       "      <td>2051.36</td>\n",
       "    </tr>\n",
       "    <tr>\n",
       "      <th>1</th>\n",
       "      <td>1/1/2019</td>\n",
       "      <td>151201</td>\n",
       "      <td>Male</td>\n",
       "      <td>49.0</td>\n",
       "      <td>Single</td>\n",
       "      <td>Illinois</td>\n",
       "      <td>Basic</td>\n",
       "      <td>self-employed</td>\n",
       "      <td>Card</td>\n",
       "      <td>0.0</td>\n",
       "      <td>544.04</td>\n",
       "    </tr>\n",
       "    <tr>\n",
       "      <th>2</th>\n",
       "      <td>1/1/2019</td>\n",
       "      <td>151202</td>\n",
       "      <td>Male</td>\n",
       "      <td>63.0</td>\n",
       "      <td>Married</td>\n",
       "      <td>New Mexico</td>\n",
       "      <td>Basic</td>\n",
       "      <td>workers</td>\n",
       "      <td>PayPal</td>\n",
       "      <td>1.0</td>\n",
       "      <td>1572.60</td>\n",
       "    </tr>\n",
       "  </tbody>\n",
       "</table>\n",
       "</div>"
      ],
      "text/plain": [
       "  Transaction_date  Transaction_ID  Gender   Age Marital_status State_names  \\\n",
       "0         1/1/2019          151200  Female  19.0         Single      Kansas   \n",
       "1         1/1/2019          151201    Male  49.0         Single    Illinois   \n",
       "2         1/1/2019          151202    Male  63.0        Married  New Mexico   \n",
       "\n",
       "  Segment Employees_status Payment_method  Referal  Amount_spent  \n",
       "0   Basic     Unemployment          Other      1.0       2051.36  \n",
       "1   Basic    self-employed           Card      0.0        544.04  \n",
       "2   Basic          workers         PayPal      1.0       1572.60  "
      ]
     },
     "execution_count": 16,
     "metadata": {},
     "output_type": "execute_result"
    }
   ],
   "source": [
    "# display first 3 rows\n",
    "df.head(3)\n"
   ]
  },
  {
   "cell_type": "code",
   "execution_count": 17,
   "id": "58d4f7c8",
   "metadata": {
    "colab": {
     "base_uri": "https://localhost:8080/",
     "height": 354
    },
    "id": "58d4f7c8",
    "outputId": "584c0da8-d217-4302-9cc0-b21a23903188"
   },
   "outputs": [
    {
     "data": {
      "text/html": [
       "<div>\n",
       "<style scoped>\n",
       "    .dataframe tbody tr th:only-of-type {\n",
       "        vertical-align: middle;\n",
       "    }\n",
       "\n",
       "    .dataframe tbody tr th {\n",
       "        vertical-align: top;\n",
       "    }\n",
       "\n",
       "    .dataframe thead th {\n",
       "        text-align: right;\n",
       "    }\n",
       "</style>\n",
       "<table border=\"1\" class=\"dataframe\">\n",
       "  <thead>\n",
       "    <tr style=\"text-align: right;\">\n",
       "      <th></th>\n",
       "      <th>Transaction_date</th>\n",
       "      <th>Transaction_ID</th>\n",
       "      <th>Gender</th>\n",
       "      <th>Age</th>\n",
       "      <th>Marital_status</th>\n",
       "      <th>State_names</th>\n",
       "      <th>Segment</th>\n",
       "      <th>Employees_status</th>\n",
       "      <th>Payment_method</th>\n",
       "      <th>Referal</th>\n",
       "      <th>Amount_spent</th>\n",
       "    </tr>\n",
       "  </thead>\n",
       "  <tbody>\n",
       "    <tr>\n",
       "      <th>2506</th>\n",
       "      <td>4/30/2021</td>\n",
       "      <td>153694</td>\n",
       "      <td>Male</td>\n",
       "      <td>34.0</td>\n",
       "      <td>Single</td>\n",
       "      <td>Florida</td>\n",
       "      <td>Missing</td>\n",
       "      <td>Employees</td>\n",
       "      <td>Other</td>\n",
       "      <td>1.0</td>\n",
       "      <td>286.82</td>\n",
       "    </tr>\n",
       "    <tr>\n",
       "      <th>2507</th>\n",
       "      <td>5/1/2021</td>\n",
       "      <td>153695</td>\n",
       "      <td>Female</td>\n",
       "      <td>57.0</td>\n",
       "      <td>Single</td>\n",
       "      <td>South Carolina</td>\n",
       "      <td>Platinum</td>\n",
       "      <td>self-employed</td>\n",
       "      <td>Card</td>\n",
       "      <td>0.0</td>\n",
       "      <td>150.10</td>\n",
       "    </tr>\n",
       "    <tr>\n",
       "      <th>2508</th>\n",
       "      <td>5/1/2021</td>\n",
       "      <td>153696</td>\n",
       "      <td>Female</td>\n",
       "      <td>36.0</td>\n",
       "      <td>Married</td>\n",
       "      <td>Hawaii</td>\n",
       "      <td>Silver</td>\n",
       "      <td>self-employed</td>\n",
       "      <td>PayPal</td>\n",
       "      <td>1.0</td>\n",
       "      <td>708.88</td>\n",
       "    </tr>\n",
       "    <tr>\n",
       "      <th>2509</th>\n",
       "      <td>5/1/2021</td>\n",
       "      <td>153697</td>\n",
       "      <td>Male</td>\n",
       "      <td>22.0</td>\n",
       "      <td>Single</td>\n",
       "      <td>South Carolina</td>\n",
       "      <td>Basic</td>\n",
       "      <td>workers</td>\n",
       "      <td>PayPal</td>\n",
       "      <td>1.0</td>\n",
       "      <td>2030.07</td>\n",
       "    </tr>\n",
       "    <tr>\n",
       "      <th>2510</th>\n",
       "      <td>5/1/2021</td>\n",
       "      <td>153698</td>\n",
       "      <td>NaN</td>\n",
       "      <td>44.0</td>\n",
       "      <td>Single</td>\n",
       "      <td>New York</td>\n",
       "      <td>Basic</td>\n",
       "      <td>Employees</td>\n",
       "      <td>PayPal</td>\n",
       "      <td>0.0</td>\n",
       "      <td>1909.77</td>\n",
       "    </tr>\n",
       "    <tr>\n",
       "      <th>2511</th>\n",
       "      <td>5/1/2021</td>\n",
       "      <td>153699</td>\n",
       "      <td>Male</td>\n",
       "      <td>48.0</td>\n",
       "      <td>Single</td>\n",
       "      <td>California</td>\n",
       "      <td>Silver</td>\n",
       "      <td>workers</td>\n",
       "      <td>PayPal</td>\n",
       "      <td>1.0</td>\n",
       "      <td>1073.15</td>\n",
       "    </tr>\n",
       "  </tbody>\n",
       "</table>\n",
       "</div>"
      ],
      "text/plain": [
       "     Transaction_date  Transaction_ID  Gender   Age Marital_status  \\\n",
       "2506        4/30/2021          153694    Male  34.0         Single   \n",
       "2507         5/1/2021          153695  Female  57.0         Single   \n",
       "2508         5/1/2021          153696  Female  36.0        Married   \n",
       "2509         5/1/2021          153697    Male  22.0         Single   \n",
       "2510         5/1/2021          153698     NaN  44.0         Single   \n",
       "2511         5/1/2021          153699    Male  48.0         Single   \n",
       "\n",
       "         State_names   Segment Employees_status Payment_method  Referal  \\\n",
       "2506         Florida   Missing        Employees          Other      1.0   \n",
       "2507  South Carolina  Platinum    self-employed           Card      0.0   \n",
       "2508          Hawaii    Silver    self-employed         PayPal      1.0   \n",
       "2509  South Carolina     Basic          workers         PayPal      1.0   \n",
       "2510        New York     Basic        Employees         PayPal      0.0   \n",
       "2511      California    Silver          workers         PayPal      1.0   \n",
       "\n",
       "      Amount_spent  \n",
       "2506        286.82  \n",
       "2507        150.10  \n",
       "2508        708.88  \n",
       "2509       2030.07  \n",
       "2510       1909.77  \n",
       "2511       1073.15  "
      ]
     },
     "execution_count": 17,
     "metadata": {},
     "output_type": "execute_result"
    }
   ],
   "source": [
    "# display last 6 rows\n",
    "df.tail(6)"
   ]
  },
  {
   "cell_type": "markdown",
   "id": "1L2Pg_LiChrC",
   "metadata": {
    "id": "1L2Pg_LiChrC"
   },
   "source": [
    "#### Retrieving sample rows from data frame.\n",
    "\n"
   ]
  },
  {
   "cell_type": "code",
   "execution_count": 18,
   "id": "36e099c7",
   "metadata": {
    "colab": {
     "base_uri": "https://localhost:8080/",
     "height": 350
    },
    "id": "36e099c7",
    "outputId": "4b3209e6-30ba-43a4-94d5-af19e3492b8d"
   },
   "outputs": [
    {
     "data": {
      "text/html": [
       "<div>\n",
       "<style scoped>\n",
       "    .dataframe tbody tr th:only-of-type {\n",
       "        vertical-align: middle;\n",
       "    }\n",
       "\n",
       "    .dataframe tbody tr th {\n",
       "        vertical-align: top;\n",
       "    }\n",
       "\n",
       "    .dataframe thead th {\n",
       "        text-align: right;\n",
       "    }\n",
       "</style>\n",
       "<table border=\"1\" class=\"dataframe\">\n",
       "  <thead>\n",
       "    <tr style=\"text-align: right;\">\n",
       "      <th></th>\n",
       "      <th>Transaction_date</th>\n",
       "      <th>Transaction_ID</th>\n",
       "      <th>Gender</th>\n",
       "      <th>Age</th>\n",
       "      <th>Marital_status</th>\n",
       "      <th>State_names</th>\n",
       "      <th>Segment</th>\n",
       "      <th>Employees_status</th>\n",
       "      <th>Payment_method</th>\n",
       "      <th>Referal</th>\n",
       "      <th>Amount_spent</th>\n",
       "    </tr>\n",
       "  </thead>\n",
       "  <tbody>\n",
       "    <tr>\n",
       "      <th>278</th>\n",
       "      <td>4/7/2019</td>\n",
       "      <td>151466</td>\n",
       "      <td>Male</td>\n",
       "      <td>43.0</td>\n",
       "      <td>Married</td>\n",
       "      <td>Montana</td>\n",
       "      <td>Basic</td>\n",
       "      <td>Unemployment</td>\n",
       "      <td>PayPal</td>\n",
       "      <td>1.0</td>\n",
       "      <td>2681.13</td>\n",
       "    </tr>\n",
       "    <tr>\n",
       "      <th>2398</th>\n",
       "      <td>3/25/2021</td>\n",
       "      <td>153586</td>\n",
       "      <td>Male</td>\n",
       "      <td>35.0</td>\n",
       "      <td>Single</td>\n",
       "      <td>Minnesota</td>\n",
       "      <td>Platinum</td>\n",
       "      <td>self-employed</td>\n",
       "      <td>Card</td>\n",
       "      <td>1.0</td>\n",
       "      <td>1167.20</td>\n",
       "    </tr>\n",
       "    <tr>\n",
       "      <th>1775</th>\n",
       "      <td>8/22/2020</td>\n",
       "      <td>152963</td>\n",
       "      <td>Male</td>\n",
       "      <td>34.0</td>\n",
       "      <td>Single</td>\n",
       "      <td>Alaska</td>\n",
       "      <td>Basic</td>\n",
       "      <td>workers</td>\n",
       "      <td>PayPal</td>\n",
       "      <td>0.0</td>\n",
       "      <td>867.14</td>\n",
       "    </tr>\n",
       "    <tr>\n",
       "      <th>93</th>\n",
       "      <td>2/4/2019</td>\n",
       "      <td>151288</td>\n",
       "      <td>Male</td>\n",
       "      <td>60.0</td>\n",
       "      <td>Married</td>\n",
       "      <td>Rhode Island</td>\n",
       "      <td>Silver</td>\n",
       "      <td>Employees</td>\n",
       "      <td>Card</td>\n",
       "      <td>1.0</td>\n",
       "      <td>841.26</td>\n",
       "    </tr>\n",
       "    <tr>\n",
       "      <th>1556</th>\n",
       "      <td>6/6/2020</td>\n",
       "      <td>152744</td>\n",
       "      <td>Female</td>\n",
       "      <td>44.0</td>\n",
       "      <td>Single</td>\n",
       "      <td>New Jersey</td>\n",
       "      <td>Basic</td>\n",
       "      <td>Unemployment</td>\n",
       "      <td>PayPal</td>\n",
       "      <td>0.0</td>\n",
       "      <td>1972.91</td>\n",
       "    </tr>\n",
       "    <tr>\n",
       "      <th>58</th>\n",
       "      <td>1/25/2019</td>\n",
       "      <td>151258</td>\n",
       "      <td>Female</td>\n",
       "      <td>32.0</td>\n",
       "      <td>Single</td>\n",
       "      <td>South Carolina</td>\n",
       "      <td>Basic</td>\n",
       "      <td>Employees</td>\n",
       "      <td>Other</td>\n",
       "      <td>NaN</td>\n",
       "      <td>676.70</td>\n",
       "    </tr>\n",
       "    <tr>\n",
       "      <th>2144</th>\n",
       "      <td>12/27/2020</td>\n",
       "      <td>153332</td>\n",
       "      <td>Male</td>\n",
       "      <td>67.0</td>\n",
       "      <td>Single</td>\n",
       "      <td>Oklahoma</td>\n",
       "      <td>Platinum</td>\n",
       "      <td>workers</td>\n",
       "      <td>Other</td>\n",
       "      <td>1.0</td>\n",
       "      <td>899.21</td>\n",
       "    </tr>\n",
       "  </tbody>\n",
       "</table>\n",
       "</div>"
      ],
      "text/plain": [
       "     Transaction_date  Transaction_ID  Gender   Age Marital_status  \\\n",
       "278          4/7/2019          151466    Male  43.0        Married   \n",
       "2398        3/25/2021          153586    Male  35.0         Single   \n",
       "1775        8/22/2020          152963    Male  34.0         Single   \n",
       "93           2/4/2019          151288    Male  60.0        Married   \n",
       "1556         6/6/2020          152744  Female  44.0         Single   \n",
       "58          1/25/2019          151258  Female  32.0         Single   \n",
       "2144       12/27/2020          153332    Male  67.0         Single   \n",
       "\n",
       "         State_names   Segment Employees_status Payment_method  Referal  \\\n",
       "278          Montana     Basic     Unemployment         PayPal      1.0   \n",
       "2398       Minnesota  Platinum    self-employed           Card      1.0   \n",
       "1775          Alaska     Basic          workers         PayPal      0.0   \n",
       "93      Rhode Island    Silver        Employees           Card      1.0   \n",
       "1556      New Jersey     Basic     Unemployment         PayPal      0.0   \n",
       "58    South Carolina     Basic        Employees          Other      NaN   \n",
       "2144        Oklahoma  Platinum          workers          Other      1.0   \n",
       "\n",
       "      Amount_spent  \n",
       "278        2681.13  \n",
       "2398       1167.20  \n",
       "1775        867.14  \n",
       "93          841.26  \n",
       "1556       1972.91  \n",
       "58          676.70  \n",
       "2144        899.21  "
      ]
     },
     "execution_count": 18,
     "metadata": {},
     "output_type": "execute_result"
    }
   ],
   "source": [
    "# Display random 7 sample rows\n",
    "df.sample(7)"
   ]
  },
  {
   "cell_type": "markdown",
   "id": "A5NQiaXLlmS3",
   "metadata": {
    "id": "A5NQiaXLlmS3"
   },
   "source": [
    "#### Retrieving information about dataframe "
   ]
  },
  {
   "cell_type": "code",
   "execution_count": 19,
   "id": "74baf9db",
   "metadata": {
    "colab": {
     "base_uri": "https://localhost:8080/"
    },
    "id": "74baf9db",
    "outputId": "d41a71d4-c32f-411a-9e69-17a9c74397a5"
   },
   "outputs": [
    {
     "name": "stdout",
     "output_type": "stream",
     "text": [
      "<class 'pandas.core.frame.DataFrame'>\n",
      "RangeIndex: 2512 entries, 0 to 2511\n",
      "Data columns (total 11 columns):\n",
      " #   Column            Non-Null Count  Dtype  \n",
      "---  ------            --------------  -----  \n",
      " 0   Transaction_date  2512 non-null   object \n",
      " 1   Transaction_ID    2512 non-null   int64  \n",
      " 2   Gender            2484 non-null   object \n",
      " 3   Age               2470 non-null   float64\n",
      " 4   Marital_status    2512 non-null   object \n",
      " 5   State_names       2512 non-null   object \n",
      " 6   Segment           2512 non-null   object \n",
      " 7   Employees_status  2486 non-null   object \n",
      " 8   Payment_method    2512 non-null   object \n",
      " 9   Referal           2357 non-null   float64\n",
      " 10  Amount_spent      2270 non-null   float64\n",
      "dtypes: float64(3), int64(1), object(7)\n",
      "memory usage: 216.0+ KB\n"
     ]
    }
   ],
   "source": [
    "df.info()"
   ]
  },
  {
   "cell_type": "code",
   "execution_count": 20,
   "id": "40639f0a",
   "metadata": {
    "colab": {
     "base_uri": "https://localhost:8080/"
    },
    "id": "40639f0a",
    "outputId": "8713eeb0-d3c5-4cfd-fa4b-cbbc65e78441"
   },
   "outputs": [
    {
     "data": {
      "text/plain": [
       "Transaction_date     object\n",
       "Transaction_ID        int64\n",
       "Gender               object\n",
       "Age                 float64\n",
       "Marital_status       object\n",
       "State_names          object\n",
       "Segment              object\n",
       "Employees_status     object\n",
       "Payment_method       object\n",
       "Referal             float64\n",
       "Amount_spent        float64\n",
       "dtype: object"
      ]
     },
     "execution_count": 20,
     "metadata": {},
     "output_type": "execute_result"
    }
   ],
   "source": [
    "# display datatypes\n",
    "df.dtypes"
   ]
  },
  {
   "cell_type": "code",
   "execution_count": 21,
   "id": "5ad7ad16",
   "metadata": {
    "colab": {
     "base_uri": "https://localhost:8080/"
    },
    "id": "5ad7ad16",
    "outputId": "4d2bb777-3516-441a-cb7d-625b298afddb"
   },
   "outputs": [
    {
     "data": {
      "text/plain": [
       "object     7\n",
       "float64    3\n",
       "int64      1\n",
       "dtype: int64"
      ]
     },
     "execution_count": 21,
     "metadata": {},
     "output_type": "execute_result"
    }
   ],
   "source": [
    "df.dtypes.value_counts()"
   ]
  },
  {
   "cell_type": "markdown",
   "id": "XfPcQQb2IH-u",
   "metadata": {
    "id": "XfPcQQb2IH-u"
   },
   "source": [
    "#### Display number of rows and columns. "
   ]
  },
  {
   "cell_type": "code",
   "execution_count": 22,
   "id": "740fc7ae",
   "metadata": {
    "colab": {
     "base_uri": "https://localhost:8080/"
    },
    "id": "740fc7ae",
    "outputId": "0609e71c-2834-4b0d-c924-f9eab9fb7508"
   },
   "outputs": [
    {
     "data": {
      "text/plain": [
       "(2512, 11)"
      ]
     },
     "execution_count": 22,
     "metadata": {},
     "output_type": "execute_result"
    }
   ],
   "source": [
    "df.shape"
   ]
  },
  {
   "cell_type": "code",
   "execution_count": 23,
   "id": "fdX_PamDE2Ko",
   "metadata": {
    "colab": {
     "base_uri": "https://localhost:8080/"
    },
    "id": "fdX_PamDE2Ko",
    "outputId": "ff017ac2-5be1-410d-b611-a22e0f42d05c"
   },
   "outputs": [
    {
     "data": {
      "text/plain": [
       "Index(['Transaction_date', 'Transaction_ID', 'Gender', 'Age', 'Marital_status',\n",
       "       'State_names', 'Segment', 'Employees_status', 'Payment_method',\n",
       "       'Referal', 'Amount_spent'],\n",
       "      dtype='object')"
      ]
     },
     "execution_count": 23,
     "metadata": {},
     "output_type": "execute_result"
    }
   ],
   "source": [
    "df.columns"
   ]
  },
  {
   "cell_type": "code",
   "execution_count": 24,
   "id": "T3t93wXoFTeL",
   "metadata": {
    "colab": {
     "base_uri": "https://localhost:8080/"
    },
    "id": "T3t93wXoFTeL",
    "outputId": "9f3505ad-97f1-484d-f4a4-0d740f65ca35"
   },
   "outputs": [
    {
     "data": {
      "text/plain": [
       "0    19.0\n",
       "1    49.0\n",
       "2    63.0\n",
       "Name: Age, dtype: float64"
      ]
     },
     "execution_count": 24,
     "metadata": {},
     "output_type": "execute_result"
    }
   ],
   "source": [
    "# display Age columns first 3 rows data\n",
    "df['Age'].head(3)"
   ]
  },
  {
   "cell_type": "code",
   "execution_count": 25,
   "id": "x7TKiUXBF4RE",
   "metadata": {
    "colab": {
     "base_uri": "https://localhost:8080/",
     "height": 239
    },
    "id": "x7TKiUXBF4RE",
    "outputId": "1ccc0c3a-735a-4db4-8f42-be98bf190ecb"
   },
   "outputs": [
    {
     "data": {
      "text/html": [
       "<div>\n",
       "<style scoped>\n",
       "    .dataframe tbody tr th:only-of-type {\n",
       "        vertical-align: middle;\n",
       "    }\n",
       "\n",
       "    .dataframe tbody tr th {\n",
       "        vertical-align: top;\n",
       "    }\n",
       "\n",
       "    .dataframe thead th {\n",
       "        text-align: right;\n",
       "    }\n",
       "</style>\n",
       "<table border=\"1\" class=\"dataframe\">\n",
       "  <thead>\n",
       "    <tr style=\"text-align: right;\">\n",
       "      <th></th>\n",
       "      <th>Age</th>\n",
       "      <th>Transaction_date</th>\n",
       "      <th>Gender</th>\n",
       "    </tr>\n",
       "  </thead>\n",
       "  <tbody>\n",
       "    <tr>\n",
       "      <th>0</th>\n",
       "      <td>19.0</td>\n",
       "      <td>1/1/2019</td>\n",
       "      <td>Female</td>\n",
       "    </tr>\n",
       "    <tr>\n",
       "      <th>1</th>\n",
       "      <td>49.0</td>\n",
       "      <td>1/1/2019</td>\n",
       "      <td>Male</td>\n",
       "    </tr>\n",
       "    <tr>\n",
       "      <th>2</th>\n",
       "      <td>63.0</td>\n",
       "      <td>1/1/2019</td>\n",
       "      <td>Male</td>\n",
       "    </tr>\n",
       "    <tr>\n",
       "      <th>3</th>\n",
       "      <td>18.0</td>\n",
       "      <td>1/1/2019</td>\n",
       "      <td>NaN</td>\n",
       "    </tr>\n",
       "  </tbody>\n",
       "</table>\n",
       "</div>"
      ],
      "text/plain": [
       "    Age Transaction_date  Gender\n",
       "0  19.0         1/1/2019  Female\n",
       "1  49.0         1/1/2019    Male\n",
       "2  63.0         1/1/2019    Male\n",
       "3  18.0         1/1/2019     NaN"
      ]
     },
     "execution_count": 25,
     "metadata": {},
     "output_type": "execute_result"
    }
   ],
   "source": [
    "# display first 4 rows of Age, Transaction_date and Gender columns\n",
    "df[['Age', 'Transaction_date', 'Gender']].head(4)"
   ]
  },
  {
   "cell_type": "markdown",
   "id": "Bkh1oFtuoSiS",
   "metadata": {
    "id": "Bkh1oFtuoSiS"
   },
   "source": [
    "#### Retrieving a Range of Rows"
   ]
  },
  {
   "cell_type": "code",
   "execution_count": 26,
   "id": "20qnnoofpPfn",
   "metadata": {
    "colab": {
     "base_uri": "https://localhost:8080/",
     "height": 193
    },
    "id": "20qnnoofpPfn",
    "outputId": "366a2257-27fa-4f10-ba41-0fdfefc3b609"
   },
   "outputs": [
    {
     "data": {
      "text/html": [
       "<div>\n",
       "<style scoped>\n",
       "    .dataframe tbody tr th:only-of-type {\n",
       "        vertical-align: middle;\n",
       "    }\n",
       "\n",
       "    .dataframe tbody tr th {\n",
       "        vertical-align: top;\n",
       "    }\n",
       "\n",
       "    .dataframe thead th {\n",
       "        text-align: right;\n",
       "    }\n",
       "</style>\n",
       "<table border=\"1\" class=\"dataframe\">\n",
       "  <thead>\n",
       "    <tr style=\"text-align: right;\">\n",
       "      <th></th>\n",
       "      <th>Transaction_date</th>\n",
       "      <th>Transaction_ID</th>\n",
       "      <th>Gender</th>\n",
       "      <th>Age</th>\n",
       "      <th>Marital_status</th>\n",
       "      <th>State_names</th>\n",
       "      <th>Segment</th>\n",
       "      <th>Employees_status</th>\n",
       "      <th>Payment_method</th>\n",
       "      <th>Referal</th>\n",
       "      <th>Amount_spent</th>\n",
       "    </tr>\n",
       "  </thead>\n",
       "  <tbody>\n",
       "    <tr>\n",
       "      <th>2510</th>\n",
       "      <td>5/1/2021</td>\n",
       "      <td>153698</td>\n",
       "      <td>NaN</td>\n",
       "      <td>44.0</td>\n",
       "      <td>Single</td>\n",
       "      <td>New York</td>\n",
       "      <td>Basic</td>\n",
       "      <td>Employees</td>\n",
       "      <td>PayPal</td>\n",
       "      <td>0.0</td>\n",
       "      <td>1909.77</td>\n",
       "    </tr>\n",
       "    <tr>\n",
       "      <th>2511</th>\n",
       "      <td>5/1/2021</td>\n",
       "      <td>153699</td>\n",
       "      <td>Male</td>\n",
       "      <td>48.0</td>\n",
       "      <td>Single</td>\n",
       "      <td>California</td>\n",
       "      <td>Silver</td>\n",
       "      <td>workers</td>\n",
       "      <td>PayPal</td>\n",
       "      <td>1.0</td>\n",
       "      <td>1073.15</td>\n",
       "    </tr>\n",
       "  </tbody>\n",
       "</table>\n",
       "</div>"
      ],
      "text/plain": [
       "     Transaction_date  Transaction_ID Gender   Age Marital_status State_names  \\\n",
       "2510         5/1/2021          153698    NaN  44.0         Single    New York   \n",
       "2511         5/1/2021          153699   Male  48.0         Single  California   \n",
       "\n",
       "     Segment Employees_status Payment_method  Referal  Amount_spent  \n",
       "2510   Basic        Employees         PayPal      0.0       1909.77  \n",
       "2511  Silver          workers         PayPal      1.0       1073.15  "
      ]
     },
     "execution_count": 26,
     "metadata": {},
     "output_type": "execute_result"
    }
   ],
   "source": [
    "# for display 2nd to 6th rows\n",
    "df[2:7]\n",
    "\n",
    "# for display starting to 10th\n",
    "df[:11]\n",
    "\n",
    "# for display last two rows\n",
    "df[-2:]\n"
   ]
  },
  {
   "cell_type": "markdown",
   "id": "03dec553",
   "metadata": {
    "id": "03dec553"
   },
   "source": [
    " ### 3.2 Data Cleaning\n",
    "After the explore our datasets may need to clean them for better analysis. Data coming in from multiple sources so It's possible to have an error in some values. This is where data cleaning becomes extremely important. In this section, we will delete unwanted columns, rename columns, correct appropriate data types, etc.\n"
   ]
  },
  {
   "cell_type": "markdown",
   "id": "HGxEahSYJ0Ft",
   "metadata": {
    "id": "HGxEahSYJ0Ft"
   },
   "source": [
    "#### Delete Columns name"
   ]
  },
  {
   "cell_type": "code",
   "execution_count": 27,
   "id": "43b62a5f",
   "metadata": {
    "id": "43b62a5f"
   },
   "outputs": [],
   "source": [
    "# Drop unwanted columns\n",
    "df.drop(['Transaction_ID'], axis=1, inplace=True)"
   ]
  },
  {
   "cell_type": "markdown",
   "id": "jtlvWfg7KR_Q",
   "metadata": {
    "id": "jtlvWfg7KR_Q"
   },
   "source": [
    "#### Change Columns name"
   ]
  },
  {
   "cell_type": "code",
   "execution_count": 28,
   "id": "0StjAOVBKdMR",
   "metadata": {
    "colab": {
     "base_uri": "https://localhost:8080/",
     "height": 207
    },
    "id": "0StjAOVBKdMR",
    "outputId": "49ac9722-93de-4639-f764-5aa68df94d17"
   },
   "outputs": [
    {
     "data": {
      "text/html": [
       "<div>\n",
       "<style scoped>\n",
       "    .dataframe tbody tr th:only-of-type {\n",
       "        vertical-align: middle;\n",
       "    }\n",
       "\n",
       "    .dataframe tbody tr th {\n",
       "        vertical-align: top;\n",
       "    }\n",
       "\n",
       "    .dataframe thead th {\n",
       "        text-align: right;\n",
       "    }\n",
       "</style>\n",
       "<table border=\"1\" class=\"dataframe\">\n",
       "  <thead>\n",
       "    <tr style=\"text-align: right;\">\n",
       "      <th></th>\n",
       "      <th>Date</th>\n",
       "      <th>Sex</th>\n",
       "      <th>Age</th>\n",
       "      <th>Marital_status</th>\n",
       "      <th>State_names</th>\n",
       "      <th>Segment</th>\n",
       "      <th>Employees_status</th>\n",
       "      <th>Payment_method</th>\n",
       "      <th>Referal</th>\n",
       "      <th>Amount_spent</th>\n",
       "    </tr>\n",
       "  </thead>\n",
       "  <tbody>\n",
       "    <tr>\n",
       "      <th>0</th>\n",
       "      <td>1/1/2019</td>\n",
       "      <td>Female</td>\n",
       "      <td>19.0</td>\n",
       "      <td>Single</td>\n",
       "      <td>Kansas</td>\n",
       "      <td>Basic</td>\n",
       "      <td>Unemployment</td>\n",
       "      <td>Other</td>\n",
       "      <td>1.0</td>\n",
       "      <td>2051.36</td>\n",
       "    </tr>\n",
       "    <tr>\n",
       "      <th>1</th>\n",
       "      <td>1/1/2019</td>\n",
       "      <td>Male</td>\n",
       "      <td>49.0</td>\n",
       "      <td>Single</td>\n",
       "      <td>Illinois</td>\n",
       "      <td>Basic</td>\n",
       "      <td>self-employed</td>\n",
       "      <td>Card</td>\n",
       "      <td>0.0</td>\n",
       "      <td>544.04</td>\n",
       "    </tr>\n",
       "    <tr>\n",
       "      <th>2</th>\n",
       "      <td>1/1/2019</td>\n",
       "      <td>Male</td>\n",
       "      <td>63.0</td>\n",
       "      <td>Married</td>\n",
       "      <td>New Mexico</td>\n",
       "      <td>Basic</td>\n",
       "      <td>workers</td>\n",
       "      <td>PayPal</td>\n",
       "      <td>1.0</td>\n",
       "      <td>1572.60</td>\n",
       "    </tr>\n",
       "  </tbody>\n",
       "</table>\n",
       "</div>"
      ],
      "text/plain": [
       "       Date     Sex   Age Marital_status State_names Segment Employees_status  \\\n",
       "0  1/1/2019  Female  19.0         Single      Kansas   Basic     Unemployment   \n",
       "1  1/1/2019    Male  49.0         Single    Illinois   Basic    self-employed   \n",
       "2  1/1/2019    Male  63.0        Married  New Mexico   Basic          workers   \n",
       "\n",
       "  Payment_method  Referal  Amount_spent  \n",
       "0          Other      1.0       2051.36  \n",
       "1           Card      0.0        544.04  \n",
       "2         PayPal      1.0       1572.60  "
      ]
     },
     "execution_count": 28,
     "metadata": {},
     "output_type": "execute_result"
    }
   ],
   "source": [
    "# create new df_col dataframe from df.copy() method. \n",
    "df_col = df.copy()\n",
    "\n",
    "# rename columns name\n",
    "df_col.rename(columns={\"Transaction_date\": \"Date\", \"Gender\": \"Sex\"}, inplace=True)\n",
    "df_col.head(3)"
   ]
  },
  {
   "cell_type": "markdown",
   "id": "HXspyxQwg5wn",
   "metadata": {
    "id": "HXspyxQwg5wn"
   },
   "source": [
    "#### Adding a new column to a DataFrame\n",
    "\n"
   ]
  },
  {
   "cell_type": "code",
   "execution_count": 29,
   "id": "te1hhuRlhN-l",
   "metadata": {
    "colab": {
     "base_uri": "https://localhost:8080/",
     "height": 191
    },
    "id": "te1hhuRlhN-l",
    "outputId": "2fe189a0-aaf9-45ee-e68c-240a5e59506e"
   },
   "outputs": [],
   "source": [
    "# Add a new ajusted column which value will be amount_spent * 100\n",
    "df_col['new_col'] = df_col['Amount_spent'] * 100"
   ]
  },
  {
   "cell_type": "code",
   "execution_count": 30,
   "id": "2bXmRJsHig4t",
   "metadata": {
    "colab": {
     "base_uri": "https://localhost:8080/",
     "height": 207
    },
    "id": "2bXmRJsHig4t",
    "outputId": "dabdebe3-2614-42b7-9553-57692e0e60b2"
   },
   "outputs": [
    {
     "data": {
      "text/html": [
       "<div>\n",
       "<style scoped>\n",
       "    .dataframe tbody tr th:only-of-type {\n",
       "        vertical-align: middle;\n",
       "    }\n",
       "\n",
       "    .dataframe tbody tr th {\n",
       "        vertical-align: top;\n",
       "    }\n",
       "\n",
       "    .dataframe thead th {\n",
       "        text-align: right;\n",
       "    }\n",
       "</style>\n",
       "<table border=\"1\" class=\"dataframe\">\n",
       "  <thead>\n",
       "    <tr style=\"text-align: right;\">\n",
       "      <th></th>\n",
       "      <th>Date</th>\n",
       "      <th>Sex</th>\n",
       "      <th>Age</th>\n",
       "      <th>Marital_status</th>\n",
       "      <th>State_names</th>\n",
       "      <th>Segment</th>\n",
       "      <th>Employees_status</th>\n",
       "      <th>Payment_method</th>\n",
       "      <th>Referal</th>\n",
       "      <th>Amount_spent</th>\n",
       "      <th>new_col</th>\n",
       "    </tr>\n",
       "  </thead>\n",
       "  <tbody>\n",
       "    <tr>\n",
       "      <th>0</th>\n",
       "      <td>1/1/2019</td>\n",
       "      <td>Female</td>\n",
       "      <td>19.0</td>\n",
       "      <td>Single</td>\n",
       "      <td>Kansas</td>\n",
       "      <td>Basic</td>\n",
       "      <td>Unemployment</td>\n",
       "      <td>Other</td>\n",
       "      <td>1.0</td>\n",
       "      <td>2051.36</td>\n",
       "      <td>205136.0</td>\n",
       "    </tr>\n",
       "    <tr>\n",
       "      <th>1</th>\n",
       "      <td>1/1/2019</td>\n",
       "      <td>Male</td>\n",
       "      <td>49.0</td>\n",
       "      <td>Single</td>\n",
       "      <td>Illinois</td>\n",
       "      <td>Basic</td>\n",
       "      <td>self-employed</td>\n",
       "      <td>Card</td>\n",
       "      <td>0.0</td>\n",
       "      <td>544.04</td>\n",
       "      <td>54404.0</td>\n",
       "    </tr>\n",
       "    <tr>\n",
       "      <th>2</th>\n",
       "      <td>1/1/2019</td>\n",
       "      <td>Male</td>\n",
       "      <td>63.0</td>\n",
       "      <td>Married</td>\n",
       "      <td>New Mexico</td>\n",
       "      <td>Basic</td>\n",
       "      <td>workers</td>\n",
       "      <td>PayPal</td>\n",
       "      <td>1.0</td>\n",
       "      <td>1572.60</td>\n",
       "      <td>157260.0</td>\n",
       "    </tr>\n",
       "  </tbody>\n",
       "</table>\n",
       "</div>"
      ],
      "text/plain": [
       "       Date     Sex   Age Marital_status State_names Segment Employees_status  \\\n",
       "0  1/1/2019  Female  19.0         Single      Kansas   Basic     Unemployment   \n",
       "1  1/1/2019    Male  49.0         Single    Illinois   Basic    self-employed   \n",
       "2  1/1/2019    Male  63.0        Married  New Mexico   Basic          workers   \n",
       "\n",
       "  Payment_method  Referal  Amount_spent   new_col  \n",
       "0          Other      1.0       2051.36  205136.0  \n",
       "1           Card      0.0        544.04   54404.0  \n",
       "2         PayPal      1.0       1572.60  157260.0  "
      ]
     },
     "execution_count": 30,
     "metadata": {},
     "output_type": "execute_result"
    }
   ],
   "source": [
    "df_col.head(3)"
   ]
  },
  {
   "cell_type": "markdown",
   "id": "wEGhdvVnKiDy",
   "metadata": {
    "id": "wEGhdvVnKiDy"
   },
   "source": [
    "#### String value change or replace "
   ]
  },
  {
   "cell_type": "code",
   "execution_count": 31,
   "id": "juaJjLGrFvP_",
   "metadata": {
    "colab": {
     "base_uri": "https://localhost:8080/",
     "height": 207
    },
    "id": "juaJjLGrFvP_",
    "outputId": "b73be5a5-236a-4e20-aa59-dc2e53a08b4c"
   },
   "outputs": [
    {
     "data": {
      "text/html": [
       "<div>\n",
       "<style scoped>\n",
       "    .dataframe tbody tr th:only-of-type {\n",
       "        vertical-align: middle;\n",
       "    }\n",
       "\n",
       "    .dataframe tbody tr th {\n",
       "        vertical-align: top;\n",
       "    }\n",
       "\n",
       "    .dataframe thead th {\n",
       "        text-align: right;\n",
       "    }\n",
       "</style>\n",
       "<table border=\"1\" class=\"dataframe\">\n",
       "  <thead>\n",
       "    <tr style=\"text-align: right;\">\n",
       "      <th></th>\n",
       "      <th>Date</th>\n",
       "      <th>Sex</th>\n",
       "      <th>Age</th>\n",
       "      <th>Marital_status</th>\n",
       "      <th>State_names</th>\n",
       "      <th>Segment</th>\n",
       "      <th>Employees_status</th>\n",
       "      <th>Payment_method</th>\n",
       "      <th>Referal</th>\n",
       "      <th>Amount_spent</th>\n",
       "      <th>new_col</th>\n",
       "    </tr>\n",
       "  </thead>\n",
       "  <tbody>\n",
       "    <tr>\n",
       "      <th>0</th>\n",
       "      <td>1/1/2019</td>\n",
       "      <td>Female</td>\n",
       "      <td>19.0</td>\n",
       "      <td>Single</td>\n",
       "      <td>Kansas</td>\n",
       "      <td>Basic</td>\n",
       "      <td>Unemployment</td>\n",
       "      <td>Other</td>\n",
       "      <td>1.0</td>\n",
       "      <td>2051.36</td>\n",
       "      <td>205136.0</td>\n",
       "    </tr>\n",
       "    <tr>\n",
       "      <th>1</th>\n",
       "      <td>1/1/2019</td>\n",
       "      <td>Male</td>\n",
       "      <td>49.0</td>\n",
       "      <td>Single</td>\n",
       "      <td>Illinois</td>\n",
       "      <td>Basic</td>\n",
       "      <td>self-employed</td>\n",
       "      <td>Card</td>\n",
       "      <td>0.0</td>\n",
       "      <td>544.04</td>\n",
       "      <td>54404.0</td>\n",
       "    </tr>\n",
       "    <tr>\n",
       "      <th>2</th>\n",
       "      <td>1/1/2019</td>\n",
       "      <td>Male</td>\n",
       "      <td>63.0</td>\n",
       "      <td>Married</td>\n",
       "      <td>New Mexico</td>\n",
       "      <td>Basic</td>\n",
       "      <td>workers</td>\n",
       "      <td>PayPal</td>\n",
       "      <td>1.0</td>\n",
       "      <td>1572.60</td>\n",
       "      <td>157260.0</td>\n",
       "    </tr>\n",
       "  </tbody>\n",
       "</table>\n",
       "</div>"
      ],
      "text/plain": [
       "       Date     Sex   Age Marital_status State_names Segment Employees_status  \\\n",
       "0  1/1/2019  Female  19.0         Single      Kansas   Basic     Unemployment   \n",
       "1  1/1/2019    Male  49.0         Single    Illinois   Basic    self-employed   \n",
       "2  1/1/2019    Male  63.0        Married  New Mexico   Basic          workers   \n",
       "\n",
       "  Payment_method  Referal  Amount_spent   new_col  \n",
       "0          Other      1.0       2051.36  205136.0  \n",
       "1           Card      0.0        544.04   54404.0  \n",
       "2         PayPal      1.0       1572.60  157260.0  "
      ]
     },
     "execution_count": 31,
     "metadata": {},
     "output_type": "execute_result"
    }
   ],
   "source": [
    "df_col.head(3)"
   ]
  },
  {
   "cell_type": "code",
   "execution_count": 32,
   "id": "qYOI7nb2KpfL",
   "metadata": {
    "id": "qYOI7nb2KpfL"
   },
   "outputs": [],
   "source": [
    "# changing Female to Woman and Male to Man in Sex column.\n",
    "#first argument in loc function is condition and second one is columns name. \n",
    "df_col.loc[df_col.Sex == \"Female\", 'Sex'] = 'Woman' \n",
    "df_col.loc[df_col.Sex == \"Male\", 'Sex'] = 'Man'\n",
    "\n"
   ]
  },
  {
   "cell_type": "code",
   "execution_count": 33,
   "id": "Q7EoRcMSF132",
   "metadata": {
    "colab": {
     "base_uri": "https://localhost:8080/",
     "height": 207
    },
    "id": "Q7EoRcMSF132",
    "outputId": "997a105c-c5ad-4ef9-b738-978d61bcb090"
   },
   "outputs": [
    {
     "data": {
      "text/html": [
       "<div>\n",
       "<style scoped>\n",
       "    .dataframe tbody tr th:only-of-type {\n",
       "        vertical-align: middle;\n",
       "    }\n",
       "\n",
       "    .dataframe tbody tr th {\n",
       "        vertical-align: top;\n",
       "    }\n",
       "\n",
       "    .dataframe thead th {\n",
       "        text-align: right;\n",
       "    }\n",
       "</style>\n",
       "<table border=\"1\" class=\"dataframe\">\n",
       "  <thead>\n",
       "    <tr style=\"text-align: right;\">\n",
       "      <th></th>\n",
       "      <th>Date</th>\n",
       "      <th>Sex</th>\n",
       "      <th>Age</th>\n",
       "      <th>Marital_status</th>\n",
       "      <th>State_names</th>\n",
       "      <th>Segment</th>\n",
       "      <th>Employees_status</th>\n",
       "      <th>Payment_method</th>\n",
       "      <th>Referal</th>\n",
       "      <th>Amount_spent</th>\n",
       "      <th>new_col</th>\n",
       "    </tr>\n",
       "  </thead>\n",
       "  <tbody>\n",
       "    <tr>\n",
       "      <th>0</th>\n",
       "      <td>1/1/2019</td>\n",
       "      <td>Woman</td>\n",
       "      <td>19.0</td>\n",
       "      <td>Single</td>\n",
       "      <td>Kansas</td>\n",
       "      <td>Basic</td>\n",
       "      <td>Unemployment</td>\n",
       "      <td>Other</td>\n",
       "      <td>1.0</td>\n",
       "      <td>2051.36</td>\n",
       "      <td>205136.0</td>\n",
       "    </tr>\n",
       "    <tr>\n",
       "      <th>1</th>\n",
       "      <td>1/1/2019</td>\n",
       "      <td>Man</td>\n",
       "      <td>49.0</td>\n",
       "      <td>Single</td>\n",
       "      <td>Illinois</td>\n",
       "      <td>Basic</td>\n",
       "      <td>self-employed</td>\n",
       "      <td>Card</td>\n",
       "      <td>0.0</td>\n",
       "      <td>544.04</td>\n",
       "      <td>54404.0</td>\n",
       "    </tr>\n",
       "    <tr>\n",
       "      <th>2</th>\n",
       "      <td>1/1/2019</td>\n",
       "      <td>Man</td>\n",
       "      <td>63.0</td>\n",
       "      <td>Married</td>\n",
       "      <td>New Mexico</td>\n",
       "      <td>Basic</td>\n",
       "      <td>workers</td>\n",
       "      <td>PayPal</td>\n",
       "      <td>1.0</td>\n",
       "      <td>1572.60</td>\n",
       "      <td>157260.0</td>\n",
       "    </tr>\n",
       "  </tbody>\n",
       "</table>\n",
       "</div>"
      ],
      "text/plain": [
       "       Date    Sex   Age Marital_status State_names Segment Employees_status  \\\n",
       "0  1/1/2019  Woman  19.0         Single      Kansas   Basic     Unemployment   \n",
       "1  1/1/2019    Man  49.0         Single    Illinois   Basic    self-employed   \n",
       "2  1/1/2019    Man  63.0        Married  New Mexico   Basic          workers   \n",
       "\n",
       "  Payment_method  Referal  Amount_spent   new_col  \n",
       "0          Other      1.0       2051.36  205136.0  \n",
       "1           Card      0.0        544.04   54404.0  \n",
       "2         PayPal      1.0       1572.60  157260.0  "
      ]
     },
     "execution_count": 33,
     "metadata": {},
     "output_type": "execute_result"
    }
   ],
   "source": [
    "df_col.head(3)"
   ]
  },
  {
   "cell_type": "markdown",
   "id": "3JWg0IavF531",
   "metadata": {
    "id": "3JWg0IavF531"
   },
   "source": [
    "Now Sex columns values are changed Female to Woman and Male to Man."
   ]
  },
  {
   "cell_type": "markdown",
   "id": "T7sc_D_N267m",
   "metadata": {
    "id": "T7sc_D_N267m"
   },
   "source": [
    "#### Datatypes change"
   ]
  },
  {
   "cell_type": "code",
   "execution_count": 34,
   "id": "uINSYaj54XnX",
   "metadata": {
    "colab": {
     "base_uri": "https://localhost:8080/"
    },
    "id": "uINSYaj54XnX",
    "outputId": "c445c91f-88cb-4e8c-a055-380a61068a46"
   },
   "outputs": [
    {
     "name": "stdout",
     "output_type": "stream",
     "text": [
      "<class 'pandas.core.frame.DataFrame'>\n",
      "RangeIndex: 2512 entries, 0 to 2511\n",
      "Data columns (total 11 columns):\n",
      " #   Column            Non-Null Count  Dtype  \n",
      "---  ------            --------------  -----  \n",
      " 0   Date              2512 non-null   object \n",
      " 1   Sex               2484 non-null   object \n",
      " 2   Age               2470 non-null   float64\n",
      " 3   Marital_status    2512 non-null   object \n",
      " 4   State_names       2512 non-null   object \n",
      " 5   Segment           2512 non-null   object \n",
      " 6   Employees_status  2486 non-null   object \n",
      " 7   Payment_method    2512 non-null   object \n",
      " 8   Referal           2357 non-null   float64\n",
      " 9   Amount_spent      2270 non-null   float64\n",
      " 10  new_col           2270 non-null   float64\n",
      "dtypes: float64(4), object(7)\n",
      "memory usage: 216.0+ KB\n"
     ]
    }
   ],
   "source": [
    "df_col.info()"
   ]
  },
  {
   "cell_type": "markdown",
   "id": "IHa8ZUo84cVD",
   "metadata": {
    "id": "IHa8ZUo84cVD"
   },
   "source": [
    "In our `Date` columns, it's object type so now we will convert this to date types, and also we will convert `Referal` columns float64 to float32.\n"
   ]
  },
  {
   "cell_type": "code",
   "execution_count": 35,
   "id": "8yfIDgFg4zhY",
   "metadata": {
    "id": "8yfIDgFg4zhY"
   },
   "outputs": [],
   "source": [
    "# change object type to datefime64 format\n",
    "df_col['Date'] = df_col['Date'].astype('datetime64[ns]')\n",
    "\n",
    "# change float64 to float32 of Referal columns\n",
    "df_col['Referal'] = df_col['Referal'].astype('float32')\n"
   ]
  },
  {
   "cell_type": "code",
   "execution_count": 36,
   "id": "V6Ux9BVcBJZc",
   "metadata": {
    "colab": {
     "base_uri": "https://localhost:8080/"
    },
    "id": "V6Ux9BVcBJZc",
    "outputId": "7a4d7706-d840-4a69-db53-0848466199de"
   },
   "outputs": [
    {
     "name": "stdout",
     "output_type": "stream",
     "text": [
      "<class 'pandas.core.frame.DataFrame'>\n",
      "RangeIndex: 2512 entries, 0 to 2511\n",
      "Data columns (total 11 columns):\n",
      " #   Column            Non-Null Count  Dtype         \n",
      "---  ------            --------------  -----         \n",
      " 0   Date              2512 non-null   datetime64[ns]\n",
      " 1   Sex               2484 non-null   object        \n",
      " 2   Age               2470 non-null   float64       \n",
      " 3   Marital_status    2512 non-null   object        \n",
      " 4   State_names       2512 non-null   object        \n",
      " 5   Segment           2512 non-null   object        \n",
      " 6   Employees_status  2486 non-null   object        \n",
      " 7   Payment_method    2512 non-null   object        \n",
      " 8   Referal           2357 non-null   float32       \n",
      " 9   Amount_spent      2270 non-null   float64       \n",
      " 10  new_col           2270 non-null   float64       \n",
      "dtypes: datetime64[ns](1), float32(1), float64(3), object(6)\n",
      "memory usage: 206.2+ KB\n"
     ]
    }
   ],
   "source": [
    "df_col.info()"
   ]
  },
  {
   "cell_type": "markdown",
   "id": "dcf97600",
   "metadata": {
    "id": "dcf97600"
   },
   "source": [
    "### 3.3 Remove duplicate"
   ]
  },
  {
   "cell_type": "code",
   "execution_count": 37,
   "id": "dc549528",
   "metadata": {
    "colab": {
     "base_uri": "https://localhost:8080/"
    },
    "id": "dc549528",
    "outputId": "41e54aab-cae1-4fd1-ebc5-f5e62b338374"
   },
   "outputs": [
    {
     "data": {
      "text/plain": [
       "12"
      ]
     },
     "execution_count": 37,
     "metadata": {},
     "output_type": "execute_result"
    }
   ],
   "source": [
    "# Display duplicated entries \n",
    "df.duplicated().sum()"
   ]
  },
  {
   "cell_type": "code",
   "execution_count": 38,
   "id": "00fe073d",
   "metadata": {
    "colab": {
     "base_uri": "https://localhost:8080/",
     "height": 542
    },
    "id": "00fe073d",
    "outputId": "dccf29c5-2122-4b6b-cceb-e11a1764fa15"
   },
   "outputs": [
    {
     "data": {
      "text/html": [
       "<div>\n",
       "<style scoped>\n",
       "    .dataframe tbody tr th:only-of-type {\n",
       "        vertical-align: middle;\n",
       "    }\n",
       "\n",
       "    .dataframe tbody tr th {\n",
       "        vertical-align: top;\n",
       "    }\n",
       "\n",
       "    .dataframe thead th {\n",
       "        text-align: right;\n",
       "    }\n",
       "</style>\n",
       "<table border=\"1\" class=\"dataframe\">\n",
       "  <thead>\n",
       "    <tr style=\"text-align: right;\">\n",
       "      <th></th>\n",
       "      <th>Transaction_date</th>\n",
       "      <th>Gender</th>\n",
       "      <th>Age</th>\n",
       "      <th>Marital_status</th>\n",
       "      <th>State_names</th>\n",
       "      <th>Segment</th>\n",
       "      <th>Employees_status</th>\n",
       "      <th>Payment_method</th>\n",
       "      <th>Referal</th>\n",
       "      <th>Amount_spent</th>\n",
       "    </tr>\n",
       "  </thead>\n",
       "  <tbody>\n",
       "    <tr>\n",
       "      <th>64</th>\n",
       "      <td>1/25/2019</td>\n",
       "      <td>Male</td>\n",
       "      <td>73.0</td>\n",
       "      <td>Married</td>\n",
       "      <td>West Virginia</td>\n",
       "      <td>Basic</td>\n",
       "      <td>Employees</td>\n",
       "      <td>PayPal</td>\n",
       "      <td>0.0</td>\n",
       "      <td>1397.09</td>\n",
       "    </tr>\n",
       "    <tr>\n",
       "      <th>65</th>\n",
       "      <td>1/26/2019</td>\n",
       "      <td>Male</td>\n",
       "      <td>55.0</td>\n",
       "      <td>Married</td>\n",
       "      <td>Kansas</td>\n",
       "      <td>Basic</td>\n",
       "      <td>Employees</td>\n",
       "      <td>Other</td>\n",
       "      <td>1.0</td>\n",
       "      <td>1277.64</td>\n",
       "    </tr>\n",
       "    <tr>\n",
       "      <th>66</th>\n",
       "      <td>1/26/2019</td>\n",
       "      <td>Female</td>\n",
       "      <td>72.0</td>\n",
       "      <td>Married</td>\n",
       "      <td>Iowa</td>\n",
       "      <td>Silver</td>\n",
       "      <td>Unemployment</td>\n",
       "      <td>PayPal</td>\n",
       "      <td>NaN</td>\n",
       "      <td>515.77</td>\n",
       "    </tr>\n",
       "    <tr>\n",
       "      <th>67</th>\n",
       "      <td>1/26/2019</td>\n",
       "      <td>Male</td>\n",
       "      <td>15.0</td>\n",
       "      <td>Married</td>\n",
       "      <td>South Carolina</td>\n",
       "      <td>Basic</td>\n",
       "      <td>self-employed</td>\n",
       "      <td>Other</td>\n",
       "      <td>1.0</td>\n",
       "      <td>790.10</td>\n",
       "    </tr>\n",
       "    <tr>\n",
       "      <th>68</th>\n",
       "      <td>1/27/2019</td>\n",
       "      <td>Female</td>\n",
       "      <td>63.0</td>\n",
       "      <td>Single</td>\n",
       "      <td>Texas</td>\n",
       "      <td>Gold</td>\n",
       "      <td>Employees</td>\n",
       "      <td>Card</td>\n",
       "      <td>1.0</td>\n",
       "      <td>1218.56</td>\n",
       "    </tr>\n",
       "    <tr>\n",
       "      <th>109</th>\n",
       "      <td>2/6/2019</td>\n",
       "      <td>Male</td>\n",
       "      <td>60.0</td>\n",
       "      <td>Married</td>\n",
       "      <td>Utah</td>\n",
       "      <td>Silver</td>\n",
       "      <td>Unemployment</td>\n",
       "      <td>Other</td>\n",
       "      <td>1.0</td>\n",
       "      <td>433.20</td>\n",
       "    </tr>\n",
       "    <tr>\n",
       "      <th>110</th>\n",
       "      <td>2/7/2019</td>\n",
       "      <td>Female</td>\n",
       "      <td>45.0</td>\n",
       "      <td>Married</td>\n",
       "      <td>Missouri</td>\n",
       "      <td>Platinum</td>\n",
       "      <td>workers</td>\n",
       "      <td>Other</td>\n",
       "      <td>1.0</td>\n",
       "      <td>929.89</td>\n",
       "    </tr>\n",
       "    <tr>\n",
       "      <th>111</th>\n",
       "      <td>2/8/2019</td>\n",
       "      <td>Male</td>\n",
       "      <td>33.0</td>\n",
       "      <td>Single</td>\n",
       "      <td>Arizona</td>\n",
       "      <td>Silver</td>\n",
       "      <td>workers</td>\n",
       "      <td>PayPal</td>\n",
       "      <td>0.0</td>\n",
       "      <td>2560.26</td>\n",
       "    </tr>\n",
       "    <tr>\n",
       "      <th>112</th>\n",
       "      <td>2/8/2019</td>\n",
       "      <td>Male</td>\n",
       "      <td>24.0</td>\n",
       "      <td>Married</td>\n",
       "      <td>South Carolina</td>\n",
       "      <td>Basic</td>\n",
       "      <td>Unemployment</td>\n",
       "      <td>Other</td>\n",
       "      <td>0.0</td>\n",
       "      <td>NaN</td>\n",
       "    </tr>\n",
       "    <tr>\n",
       "      <th>113</th>\n",
       "      <td>2/8/2019</td>\n",
       "      <td>Female</td>\n",
       "      <td>53.0</td>\n",
       "      <td>Single</td>\n",
       "      <td>Colorado</td>\n",
       "      <td>Basic</td>\n",
       "      <td>self-employed</td>\n",
       "      <td>Other</td>\n",
       "      <td>1.0</td>\n",
       "      <td>1888.69</td>\n",
       "    </tr>\n",
       "    <tr>\n",
       "      <th>114</th>\n",
       "      <td>2/8/2019</td>\n",
       "      <td>Female</td>\n",
       "      <td>70.0</td>\n",
       "      <td>Married</td>\n",
       "      <td>New Hampshire</td>\n",
       "      <td>Missing</td>\n",
       "      <td>Employees</td>\n",
       "      <td>Card</td>\n",
       "      <td>1.0</td>\n",
       "      <td>685.49</td>\n",
       "    </tr>\n",
       "    <tr>\n",
       "      <th>115</th>\n",
       "      <td>2/8/2019</td>\n",
       "      <td>Male</td>\n",
       "      <td>16.0</td>\n",
       "      <td>Married</td>\n",
       "      <td>Nebraska</td>\n",
       "      <td>Basic</td>\n",
       "      <td>workers</td>\n",
       "      <td>PayPal</td>\n",
       "      <td>1.0</td>\n",
       "      <td>1264.73</td>\n",
       "    </tr>\n",
       "  </tbody>\n",
       "</table>\n",
       "</div>"
      ],
      "text/plain": [
       "    Transaction_date  Gender   Age Marital_status     State_names   Segment  \\\n",
       "64         1/25/2019    Male  73.0        Married   West Virginia     Basic   \n",
       "65         1/26/2019    Male  55.0        Married          Kansas     Basic   \n",
       "66         1/26/2019  Female  72.0        Married            Iowa    Silver   \n",
       "67         1/26/2019    Male  15.0        Married  South Carolina     Basic   \n",
       "68         1/27/2019  Female  63.0         Single           Texas      Gold   \n",
       "109         2/6/2019    Male  60.0        Married            Utah    Silver   \n",
       "110         2/7/2019  Female  45.0        Married        Missouri  Platinum   \n",
       "111         2/8/2019    Male  33.0         Single         Arizona    Silver   \n",
       "112         2/8/2019    Male  24.0        Married  South Carolina     Basic   \n",
       "113         2/8/2019  Female  53.0         Single        Colorado     Basic   \n",
       "114         2/8/2019  Female  70.0        Married   New Hampshire   Missing   \n",
       "115         2/8/2019    Male  16.0        Married        Nebraska     Basic   \n",
       "\n",
       "    Employees_status Payment_method  Referal  Amount_spent  \n",
       "64         Employees         PayPal      0.0       1397.09  \n",
       "65         Employees          Other      1.0       1277.64  \n",
       "66      Unemployment         PayPal      NaN        515.77  \n",
       "67     self-employed          Other      1.0        790.10  \n",
       "68         Employees           Card      1.0       1218.56  \n",
       "109     Unemployment          Other      1.0        433.20  \n",
       "110          workers          Other      1.0        929.89  \n",
       "111          workers         PayPal      0.0       2560.26  \n",
       "112     Unemployment          Other      0.0           NaN  \n",
       "113    self-employed          Other      1.0       1888.69  \n",
       "114        Employees           Card      1.0        685.49  \n",
       "115          workers         PayPal      1.0       1264.73  "
      ]
     },
     "execution_count": 38,
     "metadata": {},
     "output_type": "execute_result"
    }
   ],
   "source": [
    "# duplicate rows dispaly, keep arguments will--- 'first', 'last' and False\n",
    "duplicate_value = df.duplicated(keep='first')\n",
    "\n",
    "df.loc[duplicate_value, :]"
   ]
  },
  {
   "cell_type": "code",
   "execution_count": 39,
   "id": "6fb4d3eb",
   "metadata": {
    "id": "6fb4d3eb"
   },
   "outputs": [],
   "source": [
    "# dropping ALL duplicate values\n",
    "df.drop_duplicates(keep = 'first', inplace = True)"
   ]
  },
  {
   "cell_type": "markdown",
   "id": "de1e3272",
   "metadata": {
    "id": "de1e3272"
   },
   "source": [
    "### 3.4 Handling missing values"
   ]
  },
  {
   "cell_type": "markdown",
   "id": "9y1tYxbzLWw1",
   "metadata": {
    "id": "9y1tYxbzLWw1"
   },
   "source": [
    "Handling missing values in the common task in the data pre-processing part. For many reasons most of the time we will encounter missing values. Without dealing with this we can't do the proper model building. For this section first, we will find out missing values then we decided how to handle them. We can handle this by removing affected columns or rows or replacing appropriate values there."
   ]
  },
  {
   "cell_type": "markdown",
   "id": "44ff83e8",
   "metadata": {
    "id": "44ff83e8"
   },
   "source": [
    "#### Display missing values information"
   ]
  },
  {
   "cell_type": "code",
   "execution_count": 40,
   "id": "e6ecbaa3",
   "metadata": {
    "colab": {
     "base_uri": "https://localhost:8080/"
    },
    "id": "e6ecbaa3",
    "outputId": "93b02791-c68e-4152-8949-1fd8ba4acc51"
   },
   "outputs": [
    {
     "data": {
      "text/plain": [
       "Amount_spent        241\n",
       "Referal             154\n",
       "Age                  42\n",
       "Gender               28\n",
       "Employees_status     26\n",
       "Transaction_date      0\n",
       "Marital_status        0\n",
       "State_names           0\n",
       "Segment               0\n",
       "Payment_method        0\n",
       "dtype: int64"
      ]
     },
     "execution_count": 40,
     "metadata": {},
     "output_type": "execute_result"
    }
   ],
   "source": [
    "df.isna().sum().sort_values(ascending=False)"
   ]
  },
  {
   "cell_type": "markdown",
   "id": "5UgQzwrITZk3",
   "metadata": {
    "id": "5UgQzwrITZk3"
   },
   "source": [
    "#### Delete Nan rows"
   ]
  },
  {
   "cell_type": "markdown",
   "id": "5CV_qntnTpja",
   "metadata": {
    "id": "5CV_qntnTpja"
   },
   "source": [
    "If we have less Nan value then we can delete entire rows by `dropna()` function. For this function, we will add columns name in subset parameter."
   ]
  },
  {
   "cell_type": "code",
   "execution_count": 41,
   "id": "3bbb429f",
   "metadata": {
    "id": "3bbb429f"
   },
   "outputs": [],
   "source": [
    "# df copy to df_copy\n",
    "df_new = df.copy()"
   ]
  },
  {
   "cell_type": "code",
   "execution_count": 42,
   "id": "99fe65d5",
   "metadata": {
    "id": "99fe65d5"
   },
   "outputs": [],
   "source": [
    "#Delete Nan rows of Job Columns\n",
    "df_new.dropna(subset = [\"Employees_status\"], inplace=True)"
   ]
  },
  {
   "cell_type": "markdown",
   "id": "6bxAq9hnUK4R",
   "metadata": {
    "id": "6bxAq9hnUK4R"
   },
   "source": [
    "#### Delete entire columns"
   ]
  },
  {
   "cell_type": "markdown",
   "id": "UIsVP0RAUS75",
   "metadata": {
    "id": "UIsVP0RAUS75"
   },
   "source": [
    "If we have a large number of nan values in particular columns then dropping those columns might be a good decision rather than imputing."
   ]
  },
  {
   "cell_type": "code",
   "execution_count": 43,
   "id": "4400782c",
   "metadata": {
    "id": "4400782c"
   },
   "outputs": [],
   "source": [
    "df_new.drop(columns=['Amount_spent'], inplace=True)"
   ]
  },
  {
   "cell_type": "code",
   "execution_count": 44,
   "id": "29243a31",
   "metadata": {
    "colab": {
     "base_uri": "https://localhost:8080/"
    },
    "id": "29243a31",
    "outputId": "4bfe696f-bf01-4713-a432-7fe57a5c1319"
   },
   "outputs": [
    {
     "data": {
      "text/plain": [
       "Referal             153\n",
       "Age                  42\n",
       "Gender               27\n",
       "Transaction_date      0\n",
       "Marital_status        0\n",
       "State_names           0\n",
       "Segment               0\n",
       "Employees_status      0\n",
       "Payment_method        0\n",
       "dtype: int64"
      ]
     },
     "execution_count": 44,
     "metadata": {},
     "output_type": "execute_result"
    }
   ],
   "source": [
    "df_new.isna().sum().sort_values(ascending=False)"
   ]
  },
  {
   "cell_type": "markdown",
   "id": "14-WG_ynUomI",
   "metadata": {
    "id": "14-WG_ynUomI"
   },
   "source": [
    "#### Impute missing values"
   ]
  },
  {
   "cell_type": "markdown",
   "id": "jECrC9RYVJX6",
   "metadata": {
    "id": "jECrC9RYVJX6"
   },
   "source": [
    "Sometimes if we delete entire columns that will be not the appropriate approach. Delete columns can affect our model building because we will lose our main features. For imputing we have many approaches so here are some of the most popular techniques."
   ]
  },
  {
   "cell_type": "markdown",
   "id": "c1a4435f",
   "metadata": {},
   "source": [
    "**Method 1** - Impute fixed value like 0, 'Unknown' or 'Missing' etc. We inpute Unknown in Gender columns"
   ]
  },
  {
   "cell_type": "code",
   "execution_count": 45,
   "id": "dfb6c602",
   "metadata": {},
   "outputs": [],
   "source": [
    "df['Gender'].fillna('Unknown', inplace=True)"
   ]
  },
  {
   "cell_type": "markdown",
   "id": "615ac388",
   "metadata": {},
   "source": [
    "**Method 2** - Impute Mean, Median and Mode"
   ]
  },
  {
   "cell_type": "code",
   "execution_count": 46,
   "id": "5a25d8d4",
   "metadata": {
    "id": "5a25d8d4"
   },
   "outputs": [],
   "source": [
    "# Impute Mean in Amount_spent columns\n",
    "mean_amount_spent = df['Amount_spent'].mean()\n",
    "df['Amount_spent'].fillna(mean_amount_spent, inplace=True)\n",
    "\n",
    "#Impute Median in Age column\n",
    "median_age = df['Age'].median()\n",
    "df['Age'].fillna(median_age, inplace=True)\n",
    "\n",
    "# Impute Mode in Employees_status column\n",
    "mode_emp = df['Employees_status'].mode().iloc[0]\n",
    "df['Employees_status'].fillna(mode_emp, inplace=True)"
   ]
  },
  {
   "cell_type": "markdown",
   "id": "13ed0805",
   "metadata": {},
   "source": [
    "**Method 3** - Imputing forward fill or backfill by `ffill` and `bfill`. In `ffill` missing value impute from the value of the above row and for `bfill` it's taken from the below rows value."
   ]
  },
  {
   "cell_type": "code",
   "execution_count": 47,
   "id": "f9f251fd",
   "metadata": {
    "id": "f9f251fd"
   },
   "outputs": [],
   "source": [
    "\n",
    "df['Referal'].fillna(method='ffill', inplace=True)"
   ]
  },
  {
   "cell_type": "code",
   "execution_count": 48,
   "id": "OEFYI75II6PN",
   "metadata": {
    "colab": {
     "base_uri": "https://localhost:8080/"
    },
    "id": "OEFYI75II6PN",
    "outputId": "8c92a2c6-3e53-40c3-ef78-c397a88db10e"
   },
   "outputs": [
    {
     "data": {
      "text/plain": [
       "0"
      ]
     },
     "execution_count": 48,
     "metadata": {},
     "output_type": "execute_result"
    }
   ],
   "source": [
    "df.isna().sum().sum()"
   ]
  },
  {
   "cell_type": "markdown",
   "id": "AuU7koGzcbPy",
   "metadata": {
    "id": "AuU7koGzcbPy"
   },
   "source": [
    "Now we deal with all missing values with different methods. So now we haven't any null values."
   ]
  },
  {
   "cell_type": "markdown",
   "id": "2980dcd0",
   "metadata": {
    "id": "2980dcd0"
   },
   "source": [
    "## 4. Memory management"
   ]
  },
  {
   "cell_type": "markdown",
   "id": "4hM8Z6ptQwAM",
   "metadata": {
    "id": "4hM8Z6ptQwAM"
   },
   "source": [
    "When we work on large datasets, There we get one big issue is a memory problem. We need too large resources for dealing with this. But there are some methods in pandas to deal with this. Here are some methods or strategies to deal with this problem with help of pandas."
   ]
  },
  {
   "cell_type": "markdown",
   "id": "QyO24xKLTEEm",
   "metadata": {
    "id": "QyO24xKLTEEm"
   },
   "source": [
    "### Change datatypes"
   ]
  },
  {
   "cell_type": "code",
   "execution_count": 49,
   "id": "a8a40362",
   "metadata": {
    "id": "a8a40362"
   },
   "outputs": [],
   "source": [
    "df_memory = df.copy()"
   ]
  },
  {
   "cell_type": "code",
   "execution_count": 50,
   "id": "c5587bc4",
   "metadata": {
    "colab": {
     "base_uri": "https://localhost:8080/"
    },
    "id": "c5587bc4",
    "outputId": "0f1f1ed0-5a6f-4882-ad91-ce181c3ea4c7"
   },
   "outputs": [
    {
     "name": "stdout",
     "output_type": "stream",
     "text": [
      " Total memory taking df_memory dataframe is : 1.15 MB \n"
     ]
    }
   ],
   "source": [
    "memory_usage = df_memory.memory_usage(deep=True)\n",
    "memory_usage_in_mbs = round(np.sum(memory_usage / 1024 ** 2), 3)\n",
    "print(f\" Total memory taking df_memory dataframe is : {memory_usage_in_mbs:.2f} MB \")"
   ]
  },
  {
   "cell_type": "markdown",
   "id": "YC_ucd2fXzjD",
   "metadata": {
    "id": "YC_ucd2fXzjD"
   },
   "source": [
    "#### Change object to category datatypes"
   ]
  },
  {
   "cell_type": "markdown",
   "id": "Cclw14OrWEia",
   "metadata": {
    "id": "Cclw14OrWEia"
   },
   "source": [
    "Our data frame is small in size. Which is 1.15 MB. Now We will convert our object datatype to category."
   ]
  },
  {
   "cell_type": "code",
   "execution_count": 51,
   "id": "c1dfe2d1",
   "metadata": {
    "id": "c1dfe2d1"
   },
   "outputs": [],
   "source": [
    "# Object datatype to category convert\n",
    "df_memory[df_memory.select_dtypes(['object']).columns] = df_memory.select_dtypes(['object']).apply(lambda x: x.astype('category'))"
   ]
  },
  {
   "cell_type": "code",
   "execution_count": 52,
   "id": "3a5daead",
   "metadata": {
    "colab": {
     "base_uri": "https://localhost:8080/"
    },
    "id": "3a5daead",
    "outputId": "82d71b3f-2025-4e52-f871-ffc2253ffe17"
   },
   "outputs": [
    {
     "name": "stdout",
     "output_type": "stream",
     "text": [
      "<class 'pandas.core.frame.DataFrame'>\n",
      "Int64Index: 2500 entries, 0 to 2511\n",
      "Data columns (total 10 columns):\n",
      " #   Column            Non-Null Count  Dtype   \n",
      "---  ------            --------------  -----   \n",
      " 0   Transaction_date  2500 non-null   category\n",
      " 1   Gender            2500 non-null   category\n",
      " 2   Age               2500 non-null   float64 \n",
      " 3   Marital_status    2500 non-null   category\n",
      " 4   State_names       2500 non-null   category\n",
      " 5   Segment           2500 non-null   category\n",
      " 6   Employees_status  2500 non-null   category\n",
      " 7   Payment_method    2500 non-null   category\n",
      " 8   Referal           2500 non-null   float64 \n",
      " 9   Amount_spent      2500 non-null   float64 \n",
      "dtypes: category(7), float64(3)\n",
      "memory usage: 189.1 KB\n"
     ]
    }
   ],
   "source": [
    "# convert object to category\n",
    "df_memory.info(memory_usage=\"deep\")\n"
   ]
  },
  {
   "cell_type": "markdown",
   "id": "9NcPyDr0WlDJ",
   "metadata": {
    "id": "9NcPyDr0WlDJ"
   },
   "source": [
    "Now its reduce 1.15 megabytes to 216.6 kb. It's almost reduced 5.5 times."
   ]
  },
  {
   "cell_type": "markdown",
   "id": "OAhUpeaVYBDX",
   "metadata": {
    "id": "OAhUpeaVYBDX"
   },
   "source": [
    "#### Change int64 or float64 to int 32, 16, or 8"
   ]
  },
  {
   "cell_type": "markdown",
   "id": "JRp-9sgzbK-y",
   "metadata": {
    "id": "JRp-9sgzbK-y"
   },
   "source": [
    "By default, pandas store numeric values to int64 or float64. Which takes more memory. If we have to store small numbers then we can change to 64 to 32, 16, and so on. For example, our Referal columns have only 0 and 1 values so for that we don't need to store at float64. so now we change it to float16."
   ]
  },
  {
   "cell_type": "code",
   "execution_count": 53,
   "id": "a4208c6e",
   "metadata": {
    "id": "a4208c6e"
   },
   "outputs": [],
   "source": [
    "# Change Referal column datatypes\n",
    "df_memory['Referal'] = df_memory['Referal'].astype('float32')"
   ]
  },
  {
   "cell_type": "code",
   "execution_count": 54,
   "id": "680accae",
   "metadata": {
    "colab": {
     "base_uri": "https://localhost:8080/"
    },
    "id": "680accae",
    "outputId": "ce03fb73-451a-44bf-e788-ad889fb50cdc"
   },
   "outputs": [
    {
     "name": "stdout",
     "output_type": "stream",
     "text": [
      "<class 'pandas.core.frame.DataFrame'>\n",
      "Int64Index: 2500 entries, 0 to 2511\n",
      "Data columns (total 10 columns):\n",
      " #   Column            Non-Null Count  Dtype   \n",
      "---  ------            --------------  -----   \n",
      " 0   Transaction_date  2500 non-null   category\n",
      " 1   Gender            2500 non-null   category\n",
      " 2   Age               2500 non-null   float64 \n",
      " 3   Marital_status    2500 non-null   category\n",
      " 4   State_names       2500 non-null   category\n",
      " 5   Segment           2500 non-null   category\n",
      " 6   Employees_status  2500 non-null   category\n",
      " 7   Payment_method    2500 non-null   category\n",
      " 8   Referal           2500 non-null   float32 \n",
      " 9   Amount_spent      2500 non-null   float64 \n",
      "dtypes: category(7), float32(1), float64(2)\n",
      "memory usage: 179.3 KB\n"
     ]
    }
   ],
   "source": [
    "# convert object to category\n",
    "df_memory.info(memory_usage=\"deep\")"
   ]
  },
  {
   "cell_type": "markdown",
   "id": "tDkU2zSZdBfA",
   "metadata": {
    "id": "tDkU2zSZdBfA"
   },
   "source": [
    "After changing only one column's data types we reduce 216 kb to 179 kb.\n"
   ]
  },
  {
   "cell_type": "markdown",
   "id": "XtsqLqzyeJ2q",
   "metadata": {
    "id": "XtsqLqzyeJ2q"
   },
   "source": [
    "**Note: Before changing datatypes please make sure it's consequences.**"
   ]
  },
  {
   "cell_type": "markdown",
   "id": "d9d6f71f",
   "metadata": {
    "id": "d9d6f71f"
   },
   "source": [
    "## 5. Data Analysis"
   ]
  },
  {
   "cell_type": "markdown",
   "id": "4e3b208b",
   "metadata": {
    "id": "4e3b208b"
   },
   "source": [
    "### 5.1. Calculating Basic statistical measurement"
   ]
  },
  {
   "cell_type": "code",
   "execution_count": 55,
   "id": "36f30a11",
   "metadata": {
    "colab": {
     "base_uri": "https://localhost:8080/",
     "height": 239
    },
    "id": "36f30a11",
    "outputId": "c04c4cb2-c6c6-4a16-8f53-f2b31620a05e"
   },
   "outputs": [
    {
     "data": {
      "text/html": [
       "<div>\n",
       "<style scoped>\n",
       "    .dataframe tbody tr th:only-of-type {\n",
       "        vertical-align: middle;\n",
       "    }\n",
       "\n",
       "    .dataframe tbody tr th {\n",
       "        vertical-align: top;\n",
       "    }\n",
       "\n",
       "    .dataframe thead th {\n",
       "        text-align: right;\n",
       "    }\n",
       "</style>\n",
       "<table border=\"1\" class=\"dataframe\">\n",
       "  <thead>\n",
       "    <tr style=\"text-align: right;\">\n",
       "      <th></th>\n",
       "      <th>count</th>\n",
       "      <th>mean</th>\n",
       "      <th>std</th>\n",
       "      <th>min</th>\n",
       "      <th>25%</th>\n",
       "      <th>50%</th>\n",
       "      <th>75%</th>\n",
       "      <th>max</th>\n",
       "    </tr>\n",
       "  </thead>\n",
       "  <tbody>\n",
       "    <tr>\n",
       "      <th>Age</th>\n",
       "      <td>2500.0</td>\n",
       "      <td>46.63600</td>\n",
       "      <td>18.020516</td>\n",
       "      <td>15.00</td>\n",
       "      <td>32.0000</td>\n",
       "      <td>47.00000</td>\n",
       "      <td>62.000</td>\n",
       "      <td>78.00</td>\n",
       "    </tr>\n",
       "    <tr>\n",
       "      <th>Referal</th>\n",
       "      <td>2500.0</td>\n",
       "      <td>0.65480</td>\n",
       "      <td>0.475529</td>\n",
       "      <td>0.00</td>\n",
       "      <td>0.0000</td>\n",
       "      <td>1.00000</td>\n",
       "      <td>1.000</td>\n",
       "      <td>1.00</td>\n",
       "    </tr>\n",
       "    <tr>\n",
       "      <th>Amount_spent</th>\n",
       "      <td>2500.0</td>\n",
       "      <td>1419.59178</td>\n",
       "      <td>836.011771</td>\n",
       "      <td>2.09</td>\n",
       "      <td>734.8625</td>\n",
       "      <td>1419.59178</td>\n",
       "      <td>1957.025</td>\n",
       "      <td>2999.98</td>\n",
       "    </tr>\n",
       "  </tbody>\n",
       "</table>\n",
       "</div>"
      ],
      "text/plain": [
       "               count        mean         std    min       25%         50%  \\\n",
       "Age           2500.0    46.63600   18.020516  15.00   32.0000    47.00000   \n",
       "Referal       2500.0     0.65480    0.475529   0.00    0.0000     1.00000   \n",
       "Amount_spent  2500.0  1419.59178  836.011771   2.09  734.8625  1419.59178   \n",
       "\n",
       "                   75%      max  \n",
       "Age             62.000    78.00  \n",
       "Referal          1.000     1.00  \n",
       "Amount_spent  1957.025  2999.98  "
      ]
     },
     "execution_count": 55,
     "metadata": {},
     "output_type": "execute_result"
    }
   ],
   "source": [
    "df.describe().T"
   ]
  },
  {
   "cell_type": "markdown",
   "id": "n6s8tjhWLkxS",
   "metadata": {
    "id": "n6s8tjhWLkxS"
   },
   "source": [
    "We know already above code will display only numeric columns basic statistical information. for object or category columns we can use `describe(include=object)` ."
   ]
  },
  {
   "cell_type": "code",
   "execution_count": 56,
   "id": "bedd8b71",
   "metadata": {
    "colab": {
     "base_uri": "https://localhost:8080/",
     "height": 333
    },
    "id": "bedd8b71",
    "outputId": "bc70e265-922f-4820-8e0e-965a0325bdff"
   },
   "outputs": [
    {
     "data": {
      "text/html": [
       "<div>\n",
       "<style scoped>\n",
       "    .dataframe tbody tr th:only-of-type {\n",
       "        vertical-align: middle;\n",
       "    }\n",
       "\n",
       "    .dataframe tbody tr th {\n",
       "        vertical-align: top;\n",
       "    }\n",
       "\n",
       "    .dataframe thead th {\n",
       "        text-align: right;\n",
       "    }\n",
       "</style>\n",
       "<table border=\"1\" class=\"dataframe\">\n",
       "  <thead>\n",
       "    <tr style=\"text-align: right;\">\n",
       "      <th></th>\n",
       "      <th>count</th>\n",
       "      <th>unique</th>\n",
       "      <th>top</th>\n",
       "      <th>freq</th>\n",
       "    </tr>\n",
       "  </thead>\n",
       "  <tbody>\n",
       "    <tr>\n",
       "      <th>Transaction_date</th>\n",
       "      <td>2500</td>\n",
       "      <td>810</td>\n",
       "      <td>8/29/2020</td>\n",
       "      <td>12</td>\n",
       "    </tr>\n",
       "    <tr>\n",
       "      <th>Gender</th>\n",
       "      <td>2500</td>\n",
       "      <td>3</td>\n",
       "      <td>Female</td>\n",
       "      <td>1351</td>\n",
       "    </tr>\n",
       "    <tr>\n",
       "      <th>Marital_status</th>\n",
       "      <td>2500</td>\n",
       "      <td>2</td>\n",
       "      <td>Married</td>\n",
       "      <td>1464</td>\n",
       "    </tr>\n",
       "    <tr>\n",
       "      <th>State_names</th>\n",
       "      <td>2500</td>\n",
       "      <td>50</td>\n",
       "      <td>Illinois</td>\n",
       "      <td>67</td>\n",
       "    </tr>\n",
       "    <tr>\n",
       "      <th>Segment</th>\n",
       "      <td>2500</td>\n",
       "      <td>5</td>\n",
       "      <td>Basic</td>\n",
       "      <td>1130</td>\n",
       "    </tr>\n",
       "    <tr>\n",
       "      <th>Employees_status</th>\n",
       "      <td>2500</td>\n",
       "      <td>4</td>\n",
       "      <td>Employees</td>\n",
       "      <td>968</td>\n",
       "    </tr>\n",
       "    <tr>\n",
       "      <th>Payment_method</th>\n",
       "      <td>2500</td>\n",
       "      <td>3</td>\n",
       "      <td>PayPal</td>\n",
       "      <td>1164</td>\n",
       "    </tr>\n",
       "  </tbody>\n",
       "</table>\n",
       "</div>"
      ],
      "text/plain": [
       "                 count unique        top  freq\n",
       "Transaction_date  2500    810  8/29/2020    12\n",
       "Gender            2500      3     Female  1351\n",
       "Marital_status    2500      2    Married  1464\n",
       "State_names       2500     50   Illinois    67\n",
       "Segment           2500      5      Basic  1130\n",
       "Employees_status  2500      4  Employees   968\n",
       "Payment_method    2500      3     PayPal  1164"
      ]
     },
     "execution_count": 56,
     "metadata": {},
     "output_type": "execute_result"
    }
   ],
   "source": [
    "df.describe(include=object).T"
   ]
  },
  {
   "cell_type": "markdown",
   "id": "f_p8W2lmL-C7",
   "metadata": {
    "id": "f_p8W2lmL-C7"
   },
   "source": [
    "We can calculate the mean, median, mode, maximum values, minimum values of individual columns we simply use these functions."
   ]
  },
  {
   "cell_type": "code",
   "execution_count": 57,
   "id": "c60ff776",
   "metadata": {
    "colab": {
     "base_uri": "https://localhost:8080/"
    },
    "id": "c60ff776",
    "outputId": "a9053dfa-ca0b-4767-e4cd-539688a15aeb"
   },
   "outputs": [
    {
     "name": "stdout",
     "output_type": "stream",
     "text": [
      " Mean of Age : 46.636\n",
      " Median of Age : 47.0\n",
      " Mode of Age : 47.0\n",
      " Standard deviation of Age : 18.02\n",
      " Maximum of Age : 78.0\n",
      " Menimum of Age : 15.0\n"
     ]
    }
   ],
   "source": [
    "# Calculate Mean\n",
    "mean = df['Age'].mean()\n",
    "\n",
    "# Calculate Median\n",
    "median = df['Age'].median()\n",
    "\n",
    "#Calculate Mode\n",
    "mode = df['Age'].mode().iloc[0]\n",
    "\n",
    "# Calculate standard deviation\n",
    "std = df['Age'].std()\n",
    "\n",
    "# Calculate Minimum values\n",
    "minimum = df['Age'].min()\n",
    "\n",
    "# Calculate Maximum values\n",
    "maximum = df.Age.max()\n",
    "\n",
    "print(f\" Mean of Age : {mean}\")\n",
    "print(f\" Median of Age : {median}\")\n",
    "print(f\" Mode of Age : {mode}\")\n",
    "print(f\" Standard deviation of Age : {std:.2f}\")\n",
    "print(f\" Maximum of Age : {maximum}\")\n",
    "print(f\" Menimum of Age : {minimum}\")"
   ]
  },
  {
   "cell_type": "markdown",
   "id": "Dd---Bu-Ms-R",
   "metadata": {
    "id": "Dd---Bu-Ms-R"
   },
   "source": [
    "In pandas we can display the correlation of different numeric columns. For this we can use `.corr()` function."
   ]
  },
  {
   "cell_type": "code",
   "execution_count": 58,
   "id": "8e89ace8",
   "metadata": {
    "colab": {
     "base_uri": "https://localhost:8080/",
     "height": 239
    },
    "id": "8e89ace8",
    "outputId": "2b61173c-4722-4ae8-f73a-75698da9dcae"
   },
   "outputs": [
    {
     "data": {
      "text/html": [
       "<div>\n",
       "<style scoped>\n",
       "    .dataframe tbody tr th:only-of-type {\n",
       "        vertical-align: middle;\n",
       "    }\n",
       "\n",
       "    .dataframe tbody tr th {\n",
       "        vertical-align: top;\n",
       "    }\n",
       "\n",
       "    .dataframe thead th {\n",
       "        text-align: right;\n",
       "    }\n",
       "</style>\n",
       "<table border=\"1\" class=\"dataframe\">\n",
       "  <thead>\n",
       "    <tr style=\"text-align: right;\">\n",
       "      <th></th>\n",
       "      <th>Age</th>\n",
       "      <th>Referal</th>\n",
       "      <th>Amount_spent</th>\n",
       "    </tr>\n",
       "  </thead>\n",
       "  <tbody>\n",
       "    <tr>\n",
       "      <th>Age</th>\n",
       "      <td>1.000000</td>\n",
       "      <td>0.012042</td>\n",
       "      <td>-0.021030</td>\n",
       "    </tr>\n",
       "    <tr>\n",
       "      <th>Referal</th>\n",
       "      <td>0.012042</td>\n",
       "      <td>1.000000</td>\n",
       "      <td>0.002344</td>\n",
       "    </tr>\n",
       "    <tr>\n",
       "      <th>Amount_spent</th>\n",
       "      <td>-0.021030</td>\n",
       "      <td>0.002344</td>\n",
       "      <td>1.000000</td>\n",
       "    </tr>\n",
       "  </tbody>\n",
       "</table>\n",
       "</div>"
      ],
      "text/plain": [
       "                   Age   Referal  Amount_spent\n",
       "Age           1.000000  0.012042     -0.021030\n",
       "Referal       0.012042  1.000000      0.002344\n",
       "Amount_spent -0.021030  0.002344      1.000000"
      ]
     },
     "execution_count": 58,
     "metadata": {},
     "output_type": "execute_result"
    }
   ],
   "source": [
    "# calculate correlation\n",
    "df.corr()"
   ]
  },
  {
   "cell_type": "markdown",
   "id": "CZnzwDXQg35f",
   "metadata": {
    "id": "CZnzwDXQg35f"
   },
   "source": [
    "### 5.2 Basic built in function for data analysis "
   ]
  },
  {
   "cell_type": "markdown",
   "id": "1dUAN1hwfe8m",
   "metadata": {
    "id": "1dUAN1hwfe8m"
   },
   "source": [
    "#### Number of uniqe values in category column"
   ]
  },
  {
   "cell_type": "code",
   "execution_count": 59,
   "id": "01b77672",
   "metadata": {
    "colab": {
     "base_uri": "https://localhost:8080/"
    },
    "id": "01b77672",
    "outputId": "32d4e286-6238-4b8a-d8b2-c710d1943b88"
   },
   "outputs": [
    {
     "data": {
      "text/plain": [
       "50"
      ]
     },
     "execution_count": 59,
     "metadata": {},
     "output_type": "execute_result"
    }
   ],
   "source": [
    "# for display how many unique values are there in State_names column\n",
    "df['State_names'].nunique()"
   ]
  },
  {
   "cell_type": "markdown",
   "id": "uKCSrDSDI7Bs",
   "metadata": {
    "id": "uKCSrDSDI7Bs"
   },
   "source": [
    "#### Shows all unique values"
   ]
  },
  {
   "cell_type": "code",
   "execution_count": 60,
   "id": "5ca391db",
   "metadata": {
    "colab": {
     "base_uri": "https://localhost:8080/"
    },
    "id": "5ca391db",
    "outputId": "71de46ed-5b33-4695-ab26-ec64a5ba4f43"
   },
   "outputs": [
    {
     "data": {
      "text/plain": [
       "array(['Kansas', 'Illinois', 'New Mexico', 'Virginia', 'Connecticut',\n",
       "       'Hawaii', 'Florida', 'Vermont', 'California', 'Colorado', 'Iowa',\n",
       "       'South Carolina', 'New York', 'Maine', 'Maryland', 'Missouri',\n",
       "       'North Dakota', 'Ohio', 'Nebraska', 'Montana', 'Indiana',\n",
       "       'Wisconsin', 'Alabama', 'Arkansas', 'Pennsylvania',\n",
       "       'New Hampshire', 'Washington', 'Texas', 'Kentucky',\n",
       "       'Massachusetts', 'Wyoming', 'Louisiana', 'North Carolina',\n",
       "       'Rhode Island', 'West Virginia', 'Tennessee', 'Oregon', 'Alaska',\n",
       "       'Oklahoma', 'Nevada', 'New Jersey', 'Michigan', 'Utah', 'Arizona',\n",
       "       'South Dakota', 'Georgia', 'Idaho', 'Mississippi', 'Minnesota',\n",
       "       'Delaware'], dtype=object)"
      ]
     },
     "execution_count": 60,
     "metadata": {},
     "output_type": "execute_result"
    }
   ],
   "source": [
    "# for display uniqe values of State_names column\n",
    "df['State_names'].unique()"
   ]
  },
  {
   "cell_type": "markdown",
   "id": "9VsTcgZOhakP",
   "metadata": {
    "id": "9VsTcgZOhakP"
   },
   "source": [
    "#### Counts of unique values"
   ]
  },
  {
   "cell_type": "code",
   "execution_count": 61,
   "id": "ec290b27",
   "metadata": {
    "colab": {
     "base_uri": "https://localhost:8080/"
    },
    "id": "ec290b27",
    "outputId": "9e1635be-4f0a-495c-8552-f84f7e31be67"
   },
   "outputs": [
    {
     "data": {
      "text/plain": [
       "Female     1351\n",
       "Male       1121\n",
       "Unknown      28\n",
       "Name: Gender, dtype: int64"
      ]
     },
     "execution_count": 61,
     "metadata": {},
     "output_type": "execute_result"
    }
   ],
   "source": [
    "df['Gender'].value_counts()"
   ]
  },
  {
   "cell_type": "markdown",
   "id": "dVItecqDKUwk",
   "metadata": {
    "id": "dVItecqDKUwk"
   },
   "source": [
    "If we want to show with the percentage of occurrence rather number than we use `normalize=True` argument in `value_counts()` function"
   ]
  },
  {
   "cell_type": "code",
   "execution_count": 62,
   "id": "4876aa46",
   "metadata": {
    "colab": {
     "base_uri": "https://localhost:8080/"
    },
    "id": "4876aa46",
    "outputId": "a5ad8292-aaa3-4b8b-bf5e-cd41d0ac0e6a"
   },
   "outputs": [
    {
     "data": {
      "text/plain": [
       "Female     0.5404\n",
       "Male       0.4484\n",
       "Unknown    0.0112\n",
       "Name: Gender, dtype: float64"
      ]
     },
     "execution_count": 62,
     "metadata": {},
     "output_type": "execute_result"
    }
   ],
   "source": [
    "# Calculate percentage of each category\n",
    "df['Gender'].value_counts(normalize=True)"
   ]
  },
  {
   "cell_type": "code",
   "execution_count": 63,
   "id": "665280f1",
   "metadata": {
    "colab": {
     "base_uri": "https://localhost:8080/"
    },
    "id": "665280f1",
    "outputId": "f28c5a20-206a-4d41-831c-e368135acb60"
   },
   "outputs": [
    {
     "data": {
      "text/plain": [
       "Illinois         67\n",
       "Georgia          64\n",
       "Massachusetts    63\n",
       "Maine            62\n",
       "Kentucky         59\n",
       "Minnesota        59\n",
       "Delaware         56\n",
       "Missouri         56\n",
       "New York         55\n",
       "New Mexico       55\n",
       "Arkansas         55\n",
       "California       55\n",
       "Arizona          55\n",
       "Nevada           55\n",
       "Vermont          54\n",
       "New Jersey       53\n",
       "Oregon           53\n",
       "Florida          53\n",
       "West Virginia    53\n",
       "Washington       52\n",
       "Name: State_names, dtype: int64"
      ]
     },
     "execution_count": 63,
     "metadata": {},
     "output_type": "execute_result"
    }
   ],
   "source": [
    "df['State_names'].value_counts().sort_values(ascending = False).head(20)"
   ]
  },
  {
   "cell_type": "code",
   "execution_count": 64,
   "id": "eed29623",
   "metadata": {
    "colab": {
     "base_uri": "https://localhost:8080/",
     "height": 207
    },
    "id": "eed29623",
    "outputId": "31f49d44-ba25-42a1-a2e7-b47e05530a56"
   },
   "outputs": [
    {
     "data": {
      "text/html": [
       "<div>\n",
       "<style scoped>\n",
       "    .dataframe tbody tr th:only-of-type {\n",
       "        vertical-align: middle;\n",
       "    }\n",
       "\n",
       "    .dataframe tbody tr th {\n",
       "        vertical-align: top;\n",
       "    }\n",
       "\n",
       "    .dataframe thead th {\n",
       "        text-align: right;\n",
       "    }\n",
       "</style>\n",
       "<table border=\"1\" class=\"dataframe\">\n",
       "  <thead>\n",
       "    <tr style=\"text-align: right;\">\n",
       "      <th></th>\n",
       "      <th>Transaction_date</th>\n",
       "      <th>Gender</th>\n",
       "      <th>Age</th>\n",
       "      <th>Marital_status</th>\n",
       "      <th>State_names</th>\n",
       "      <th>Segment</th>\n",
       "      <th>Employees_status</th>\n",
       "      <th>Payment_method</th>\n",
       "      <th>Referal</th>\n",
       "      <th>Amount_spent</th>\n",
       "    </tr>\n",
       "  </thead>\n",
       "  <tbody>\n",
       "    <tr>\n",
       "      <th>1639</th>\n",
       "      <td>7/6/2020</td>\n",
       "      <td>Female</td>\n",
       "      <td>28.0</td>\n",
       "      <td>Single</td>\n",
       "      <td>Alabama</td>\n",
       "      <td>Gold</td>\n",
       "      <td>Employees</td>\n",
       "      <td>PayPal</td>\n",
       "      <td>0.0</td>\n",
       "      <td>1706.13</td>\n",
       "    </tr>\n",
       "    <tr>\n",
       "      <th>28</th>\n",
       "      <td>1/12/2019</td>\n",
       "      <td>Male</td>\n",
       "      <td>75.0</td>\n",
       "      <td>Married</td>\n",
       "      <td>Alabama</td>\n",
       "      <td>Basic</td>\n",
       "      <td>self-employed</td>\n",
       "      <td>PayPal</td>\n",
       "      <td>1.0</td>\n",
       "      <td>233.05</td>\n",
       "    </tr>\n",
       "    <tr>\n",
       "      <th>2001</th>\n",
       "      <td>11/2/2020</td>\n",
       "      <td>Female</td>\n",
       "      <td>47.0</td>\n",
       "      <td>Married</td>\n",
       "      <td>Alabama</td>\n",
       "      <td>Gold</td>\n",
       "      <td>Employees</td>\n",
       "      <td>Other</td>\n",
       "      <td>0.0</td>\n",
       "      <td>1954.13</td>\n",
       "    </tr>\n",
       "  </tbody>\n",
       "</table>\n",
       "</div>"
      ],
      "text/plain": [
       "     Transaction_date  Gender   Age Marital_status State_names Segment  \\\n",
       "1639         7/6/2020  Female  28.0         Single     Alabama    Gold   \n",
       "28          1/12/2019    Male  75.0        Married     Alabama   Basic   \n",
       "2001        11/2/2020  Female  47.0        Married     Alabama    Gold   \n",
       "\n",
       "     Employees_status Payment_method  Referal  Amount_spent  \n",
       "1639        Employees         PayPal      0.0       1706.13  \n",
       "28      self-employed         PayPal      1.0        233.05  \n",
       "2001        Employees          Other      0.0       1954.13  "
      ]
     },
     "execution_count": 64,
     "metadata": {},
     "output_type": "execute_result"
    }
   ],
   "source": [
    "# Sort Values by State_names\n",
    "df.sort_values(by=['State_names']).head(3)"
   ]
  },
  {
   "cell_type": "markdown",
   "id": "_4zUpaMCm6Ig",
   "metadata": {
    "id": "_4zUpaMCm6Ig"
   },
   "source": [
    "For sorting our dataframe by Amount_spent with ascending order:"
   ]
  },
  {
   "cell_type": "code",
   "execution_count": 65,
   "id": "9nAJo_njnDTr",
   "metadata": {
    "colab": {
     "base_uri": "https://localhost:8080/",
     "height": 225
    },
    "id": "9nAJo_njnDTr",
    "outputId": "229b54ff-320f-4e58-ec19-335bcdc406c1"
   },
   "outputs": [
    {
     "data": {
      "text/html": [
       "<div>\n",
       "<style scoped>\n",
       "    .dataframe tbody tr th:only-of-type {\n",
       "        vertical-align: middle;\n",
       "    }\n",
       "\n",
       "    .dataframe tbody tr th {\n",
       "        vertical-align: top;\n",
       "    }\n",
       "\n",
       "    .dataframe thead th {\n",
       "        text-align: right;\n",
       "    }\n",
       "</style>\n",
       "<table border=\"1\" class=\"dataframe\">\n",
       "  <thead>\n",
       "    <tr style=\"text-align: right;\">\n",
       "      <th></th>\n",
       "      <th>Transaction_date</th>\n",
       "      <th>Gender</th>\n",
       "      <th>Age</th>\n",
       "      <th>Marital_status</th>\n",
       "      <th>State_names</th>\n",
       "      <th>Segment</th>\n",
       "      <th>Employees_status</th>\n",
       "      <th>Payment_method</th>\n",
       "      <th>Referal</th>\n",
       "      <th>Amount_spent</th>\n",
       "    </tr>\n",
       "  </thead>\n",
       "  <tbody>\n",
       "    <tr>\n",
       "      <th>2468</th>\n",
       "      <td>4/18/2021</td>\n",
       "      <td>Female</td>\n",
       "      <td>73.0</td>\n",
       "      <td>Married</td>\n",
       "      <td>Michigan</td>\n",
       "      <td>Gold</td>\n",
       "      <td>Employees</td>\n",
       "      <td>PayPal</td>\n",
       "      <td>1.0</td>\n",
       "      <td>2.09</td>\n",
       "    </tr>\n",
       "    <tr>\n",
       "      <th>568</th>\n",
       "      <td>7/4/2019</td>\n",
       "      <td>Male</td>\n",
       "      <td>46.0</td>\n",
       "      <td>Single</td>\n",
       "      <td>South Carolina</td>\n",
       "      <td>Gold</td>\n",
       "      <td>workers</td>\n",
       "      <td>PayPal</td>\n",
       "      <td>0.0</td>\n",
       "      <td>2.16</td>\n",
       "    </tr>\n",
       "    <tr>\n",
       "      <th>2401</th>\n",
       "      <td>3/25/2021</td>\n",
       "      <td>Female</td>\n",
       "      <td>60.0</td>\n",
       "      <td>Single</td>\n",
       "      <td>Maryland</td>\n",
       "      <td>Silver</td>\n",
       "      <td>Employees</td>\n",
       "      <td>PayPal</td>\n",
       "      <td>1.0</td>\n",
       "      <td>2.84</td>\n",
       "    </tr>\n",
       "  </tbody>\n",
       "</table>\n",
       "</div>"
      ],
      "text/plain": [
       "     Transaction_date  Gender   Age Marital_status     State_names Segment  \\\n",
       "2468        4/18/2021  Female  73.0        Married        Michigan    Gold   \n",
       "568          7/4/2019    Male  46.0         Single  South Carolina    Gold   \n",
       "2401        3/25/2021  Female  60.0         Single        Maryland  Silver   \n",
       "\n",
       "     Employees_status Payment_method  Referal  Amount_spent  \n",
       "2468        Employees         PayPal      1.0          2.09  \n",
       "568           workers         PayPal      0.0          2.16  \n",
       "2401        Employees         PayPal      1.0          2.84  "
      ]
     },
     "execution_count": 65,
     "metadata": {},
     "output_type": "execute_result"
    }
   ],
   "source": [
    "# Sort Values Amount_spent with ascending order\n",
    "df.sort_values(by=['Amount_spent']).head(3)"
   ]
  },
  {
   "cell_type": "markdown",
   "id": "r0GtAVPrp2BV",
   "metadata": {
    "id": "r0GtAVPrp2BV"
   },
   "source": [
    "For sorting our dataframe by Amount_spent with descending order:"
   ]
  },
  {
   "cell_type": "code",
   "execution_count": 66,
   "id": "GYRYIUCHpQU5",
   "metadata": {
    "colab": {
     "base_uri": "https://localhost:8080/",
     "height": 207
    },
    "id": "GYRYIUCHpQU5",
    "outputId": "fafcb086-41e6-498f-d6c7-5570b479c8ac"
   },
   "outputs": [
    {
     "data": {
      "text/html": [
       "<div>\n",
       "<style scoped>\n",
       "    .dataframe tbody tr th:only-of-type {\n",
       "        vertical-align: middle;\n",
       "    }\n",
       "\n",
       "    .dataframe tbody tr th {\n",
       "        vertical-align: top;\n",
       "    }\n",
       "\n",
       "    .dataframe thead th {\n",
       "        text-align: right;\n",
       "    }\n",
       "</style>\n",
       "<table border=\"1\" class=\"dataframe\">\n",
       "  <thead>\n",
       "    <tr style=\"text-align: right;\">\n",
       "      <th></th>\n",
       "      <th>Transaction_date</th>\n",
       "      <th>Gender</th>\n",
       "      <th>Age</th>\n",
       "      <th>Marital_status</th>\n",
       "      <th>State_names</th>\n",
       "      <th>Segment</th>\n",
       "      <th>Employees_status</th>\n",
       "      <th>Payment_method</th>\n",
       "      <th>Referal</th>\n",
       "      <th>Amount_spent</th>\n",
       "    </tr>\n",
       "  </thead>\n",
       "  <tbody>\n",
       "    <tr>\n",
       "      <th>17</th>\n",
       "      <td>1/7/2019</td>\n",
       "      <td>Female</td>\n",
       "      <td>77.0</td>\n",
       "      <td>Married</td>\n",
       "      <td>New Mexico</td>\n",
       "      <td>Platinum</td>\n",
       "      <td>workers</td>\n",
       "      <td>Card</td>\n",
       "      <td>0.0</td>\n",
       "      <td>2999.98</td>\n",
       "    </tr>\n",
       "    <tr>\n",
       "      <th>485</th>\n",
       "      <td>6/7/2019</td>\n",
       "      <td>Male</td>\n",
       "      <td>65.0</td>\n",
       "      <td>Married</td>\n",
       "      <td>Arizona</td>\n",
       "      <td>Gold</td>\n",
       "      <td>self-employed</td>\n",
       "      <td>PayPal</td>\n",
       "      <td>1.0</td>\n",
       "      <td>2998.62</td>\n",
       "    </tr>\n",
       "    <tr>\n",
       "      <th>2279</th>\n",
       "      <td>2/15/2021</td>\n",
       "      <td>Female</td>\n",
       "      <td>78.0</td>\n",
       "      <td>Single</td>\n",
       "      <td>Arizona</td>\n",
       "      <td>Silver</td>\n",
       "      <td>Employees</td>\n",
       "      <td>PayPal</td>\n",
       "      <td>1.0</td>\n",
       "      <td>2997.21</td>\n",
       "    </tr>\n",
       "  </tbody>\n",
       "</table>\n",
       "</div>"
      ],
      "text/plain": [
       "     Transaction_date  Gender   Age Marital_status State_names   Segment  \\\n",
       "17           1/7/2019  Female  77.0        Married  New Mexico  Platinum   \n",
       "485          6/7/2019    Male  65.0        Married     Arizona      Gold   \n",
       "2279        2/15/2021  Female  78.0         Single     Arizona    Silver   \n",
       "\n",
       "     Employees_status Payment_method  Referal  Amount_spent  \n",
       "17            workers           Card      0.0       2999.98  \n",
       "485     self-employed         PayPal      1.0       2998.62  \n",
       "2279        Employees         PayPal      1.0       2997.21  "
      ]
     },
     "execution_count": 66,
     "metadata": {},
     "output_type": "execute_result"
    }
   ],
   "source": [
    "# Sort Values Amount_spent with descending order\n",
    "df.sort_values(by=['Amount_spent'], ascending=False).head(3)"
   ]
  },
  {
   "cell_type": "markdown",
   "id": "TGbW_Qtmn1C2",
   "metadata": {
    "id": "TGbW_Qtmn1C2"
   },
   "source": [
    "Alternatively, We can use `nlargest()` and `nsmallest()` functions for displaying largest and smallest values with desired numbers. for example, If we want to display 4 largest Amount_spent rows then we use this:"
   ]
  },
  {
   "cell_type": "code",
   "execution_count": 67,
   "id": "1580b9fe",
   "metadata": {
    "colab": {
     "base_uri": "https://localhost:8080/",
     "height": 256
    },
    "id": "1580b9fe",
    "outputId": "03d3b2be-1bd5-456d-fd9b-bb30a5f890a9"
   },
   "outputs": [
    {
     "data": {
      "text/html": [
       "<div>\n",
       "<style scoped>\n",
       "    .dataframe tbody tr th:only-of-type {\n",
       "        vertical-align: middle;\n",
       "    }\n",
       "\n",
       "    .dataframe tbody tr th {\n",
       "        vertical-align: top;\n",
       "    }\n",
       "\n",
       "    .dataframe thead th {\n",
       "        text-align: right;\n",
       "    }\n",
       "</style>\n",
       "<table border=\"1\" class=\"dataframe\">\n",
       "  <thead>\n",
       "    <tr style=\"text-align: right;\">\n",
       "      <th></th>\n",
       "      <th>Transaction_date</th>\n",
       "      <th>Gender</th>\n",
       "      <th>Age</th>\n",
       "      <th>Marital_status</th>\n",
       "      <th>State_names</th>\n",
       "      <th>Segment</th>\n",
       "      <th>Employees_status</th>\n",
       "      <th>Payment_method</th>\n",
       "      <th>Referal</th>\n",
       "      <th>Amount_spent</th>\n",
       "    </tr>\n",
       "  </thead>\n",
       "  <tbody>\n",
       "    <tr>\n",
       "      <th>17</th>\n",
       "      <td>1/7/2019</td>\n",
       "      <td>Female</td>\n",
       "      <td>77.0</td>\n",
       "      <td>Married</td>\n",
       "      <td>New Mexico</td>\n",
       "      <td>Platinum</td>\n",
       "      <td>workers</td>\n",
       "      <td>Card</td>\n",
       "      <td>0.0</td>\n",
       "      <td>2999.98</td>\n",
       "    </tr>\n",
       "    <tr>\n",
       "      <th>485</th>\n",
       "      <td>6/7/2019</td>\n",
       "      <td>Male</td>\n",
       "      <td>65.0</td>\n",
       "      <td>Married</td>\n",
       "      <td>Arizona</td>\n",
       "      <td>Gold</td>\n",
       "      <td>self-employed</td>\n",
       "      <td>PayPal</td>\n",
       "      <td>1.0</td>\n",
       "      <td>2998.62</td>\n",
       "    </tr>\n",
       "    <tr>\n",
       "      <th>2279</th>\n",
       "      <td>2/15/2021</td>\n",
       "      <td>Female</td>\n",
       "      <td>78.0</td>\n",
       "      <td>Single</td>\n",
       "      <td>Arizona</td>\n",
       "      <td>Silver</td>\n",
       "      <td>Employees</td>\n",
       "      <td>PayPal</td>\n",
       "      <td>1.0</td>\n",
       "      <td>2997.21</td>\n",
       "    </tr>\n",
       "    <tr>\n",
       "      <th>589</th>\n",
       "      <td>7/13/2019</td>\n",
       "      <td>Male</td>\n",
       "      <td>51.0</td>\n",
       "      <td>Single</td>\n",
       "      <td>North Carolina</td>\n",
       "      <td>Missing</td>\n",
       "      <td>Employees</td>\n",
       "      <td>PayPal</td>\n",
       "      <td>1.0</td>\n",
       "      <td>2997.15</td>\n",
       "    </tr>\n",
       "  </tbody>\n",
       "</table>\n",
       "</div>"
      ],
      "text/plain": [
       "     Transaction_date  Gender   Age Marital_status     State_names   Segment  \\\n",
       "17           1/7/2019  Female  77.0        Married      New Mexico  Platinum   \n",
       "485          6/7/2019    Male  65.0        Married         Arizona      Gold   \n",
       "2279        2/15/2021  Female  78.0         Single         Arizona    Silver   \n",
       "589         7/13/2019    Male  51.0         Single  North Carolina   Missing   \n",
       "\n",
       "     Employees_status Payment_method  Referal  Amount_spent  \n",
       "17            workers           Card      0.0       2999.98  \n",
       "485     self-employed         PayPal      1.0       2998.62  \n",
       "2279        Employees         PayPal      1.0       2997.21  \n",
       "589         Employees         PayPal      1.0       2997.15  "
      ]
     },
     "execution_count": 67,
     "metadata": {},
     "output_type": "execute_result"
    }
   ],
   "source": [
    "# nlargest\n",
    "df.nlargest(4, 'Amount_spent').head(10) # first argument is how many rows you want to disply and second one is columns name"
   ]
  },
  {
   "cell_type": "markdown",
   "id": "T0YVV84jrCXX",
   "metadata": {
    "id": "T0YVV84jrCXX"
   },
   "source": [
    "For 3 smallest Amount_spent rows"
   ]
  },
  {
   "cell_type": "code",
   "execution_count": 68,
   "id": "458403e0",
   "metadata": {
    "colab": {
     "base_uri": "https://localhost:8080/",
     "height": 225
    },
    "id": "458403e0",
    "outputId": "df07fb91-ef11-480c-c658-3421d9e9fd50"
   },
   "outputs": [
    {
     "data": {
      "text/html": [
       "<div>\n",
       "<style scoped>\n",
       "    .dataframe tbody tr th:only-of-type {\n",
       "        vertical-align: middle;\n",
       "    }\n",
       "\n",
       "    .dataframe tbody tr th {\n",
       "        vertical-align: top;\n",
       "    }\n",
       "\n",
       "    .dataframe thead th {\n",
       "        text-align: right;\n",
       "    }\n",
       "</style>\n",
       "<table border=\"1\" class=\"dataframe\">\n",
       "  <thead>\n",
       "    <tr style=\"text-align: right;\">\n",
       "      <th></th>\n",
       "      <th>Transaction_date</th>\n",
       "      <th>Gender</th>\n",
       "      <th>Age</th>\n",
       "      <th>Marital_status</th>\n",
       "      <th>State_names</th>\n",
       "      <th>Segment</th>\n",
       "      <th>Employees_status</th>\n",
       "      <th>Payment_method</th>\n",
       "      <th>Referal</th>\n",
       "      <th>Amount_spent</th>\n",
       "    </tr>\n",
       "  </thead>\n",
       "  <tbody>\n",
       "    <tr>\n",
       "      <th>33</th>\n",
       "      <td>1/14/2019</td>\n",
       "      <td>Male</td>\n",
       "      <td>15.0</td>\n",
       "      <td>Married</td>\n",
       "      <td>Missouri</td>\n",
       "      <td>Gold</td>\n",
       "      <td>self-employed</td>\n",
       "      <td>Card</td>\n",
       "      <td>1.0</td>\n",
       "      <td>628.93</td>\n",
       "    </tr>\n",
       "    <tr>\n",
       "      <th>54</th>\n",
       "      <td>1/23/2019</td>\n",
       "      <td>Male</td>\n",
       "      <td>15.0</td>\n",
       "      <td>Married</td>\n",
       "      <td>Illinois</td>\n",
       "      <td>Basic</td>\n",
       "      <td>Employees</td>\n",
       "      <td>Card</td>\n",
       "      <td>1.0</td>\n",
       "      <td>2690.18</td>\n",
       "    </tr>\n",
       "    <tr>\n",
       "      <th>62</th>\n",
       "      <td>1/26/2019</td>\n",
       "      <td>Male</td>\n",
       "      <td>15.0</td>\n",
       "      <td>Married</td>\n",
       "      <td>South Carolina</td>\n",
       "      <td>Basic</td>\n",
       "      <td>self-employed</td>\n",
       "      <td>Other</td>\n",
       "      <td>1.0</td>\n",
       "      <td>790.10</td>\n",
       "    </tr>\n",
       "  </tbody>\n",
       "</table>\n",
       "</div>"
      ],
      "text/plain": [
       "   Transaction_date Gender   Age Marital_status     State_names Segment  \\\n",
       "33        1/14/2019   Male  15.0        Married        Missouri    Gold   \n",
       "54        1/23/2019   Male  15.0        Married        Illinois   Basic   \n",
       "62        1/26/2019   Male  15.0        Married  South Carolina   Basic   \n",
       "\n",
       "   Employees_status Payment_method  Referal  Amount_spent  \n",
       "33    self-employed           Card      1.0        628.93  \n",
       "54        Employees           Card      1.0       2690.18  \n",
       "62    self-employed          Other      1.0        790.10  "
      ]
     },
     "execution_count": 68,
     "metadata": {},
     "output_type": "execute_result"
    }
   ],
   "source": [
    "# nsmallest\n",
    "df.nsmallest(3, 'Age').head(10)"
   ]
  },
  {
   "cell_type": "markdown",
   "id": "LV6wnCzjwgfv",
   "metadata": {
    "id": "LV6wnCzjwgfv"
   },
   "source": [
    "#### Conditional queries on Data"
   ]
  },
  {
   "cell_type": "code",
   "execution_count": 69,
   "id": "9998e789",
   "metadata": {
    "colab": {
     "base_uri": "https://localhost:8080/",
     "height": 239
    },
    "id": "9998e789",
    "outputId": "c6cf03aa-3860-443e-fef7-9701c3be864e"
   },
   "outputs": [
    {
     "data": {
      "text/html": [
       "<div>\n",
       "<style scoped>\n",
       "    .dataframe tbody tr th:only-of-type {\n",
       "        vertical-align: middle;\n",
       "    }\n",
       "\n",
       "    .dataframe tbody tr th {\n",
       "        vertical-align: top;\n",
       "    }\n",
       "\n",
       "    .dataframe thead th {\n",
       "        text-align: right;\n",
       "    }\n",
       "</style>\n",
       "<table border=\"1\" class=\"dataframe\">\n",
       "  <thead>\n",
       "    <tr style=\"text-align: right;\">\n",
       "      <th></th>\n",
       "      <th>Transaction_date</th>\n",
       "      <th>Gender</th>\n",
       "      <th>Age</th>\n",
       "      <th>Marital_status</th>\n",
       "      <th>State_names</th>\n",
       "      <th>Segment</th>\n",
       "      <th>Employees_status</th>\n",
       "      <th>Payment_method</th>\n",
       "      <th>Referal</th>\n",
       "      <th>Amount_spent</th>\n",
       "    </tr>\n",
       "  </thead>\n",
       "  <tbody>\n",
       "    <tr>\n",
       "      <th>2</th>\n",
       "      <td>1/1/2019</td>\n",
       "      <td>Male</td>\n",
       "      <td>63.0</td>\n",
       "      <td>Married</td>\n",
       "      <td>New Mexico</td>\n",
       "      <td>Basic</td>\n",
       "      <td>workers</td>\n",
       "      <td>PayPal</td>\n",
       "      <td>1.0</td>\n",
       "      <td>1572.60</td>\n",
       "    </tr>\n",
       "    <tr>\n",
       "      <th>5</th>\n",
       "      <td>1/3/2019</td>\n",
       "      <td>Male</td>\n",
       "      <td>71.0</td>\n",
       "      <td>Single</td>\n",
       "      <td>Hawaii</td>\n",
       "      <td>Basic</td>\n",
       "      <td>Employees</td>\n",
       "      <td>PayPal</td>\n",
       "      <td>1.0</td>\n",
       "      <td>2922.66</td>\n",
       "    </tr>\n",
       "    <tr>\n",
       "      <th>6</th>\n",
       "      <td>1/3/2019</td>\n",
       "      <td>Female</td>\n",
       "      <td>34.0</td>\n",
       "      <td>Married</td>\n",
       "      <td>New Mexico</td>\n",
       "      <td>Platinum</td>\n",
       "      <td>Employees</td>\n",
       "      <td>PayPal</td>\n",
       "      <td>1.0</td>\n",
       "      <td>1481.42</td>\n",
       "    </tr>\n",
       "    <tr>\n",
       "      <th>7</th>\n",
       "      <td>1/3/2019</td>\n",
       "      <td>Male</td>\n",
       "      <td>37.0</td>\n",
       "      <td>Married</td>\n",
       "      <td>Connecticut</td>\n",
       "      <td>Basic</td>\n",
       "      <td>workers</td>\n",
       "      <td>PayPal</td>\n",
       "      <td>1.0</td>\n",
       "      <td>1149.55</td>\n",
       "    </tr>\n",
       "  </tbody>\n",
       "</table>\n",
       "</div>"
      ],
      "text/plain": [
       "  Transaction_date  Gender   Age Marital_status  State_names   Segment  \\\n",
       "2         1/1/2019    Male  63.0        Married   New Mexico     Basic   \n",
       "5         1/3/2019    Male  71.0         Single       Hawaii     Basic   \n",
       "6         1/3/2019  Female  34.0        Married   New Mexico  Platinum   \n",
       "7         1/3/2019    Male  37.0        Married  Connecticut     Basic   \n",
       "\n",
       "  Employees_status Payment_method  Referal  Amount_spent  \n",
       "2          workers         PayPal      1.0       1572.60  \n",
       "5        Employees         PayPal      1.0       2922.66  \n",
       "6        Employees         PayPal      1.0       1481.42  \n",
       "7          workers         PayPal      1.0       1149.55  "
      ]
     },
     "execution_count": 69,
     "metadata": {},
     "output_type": "execute_result"
    }
   ],
   "source": [
    "# filtering - Only show Paypal users\n",
    "condition = df['Payment_method'] == 'PayPal'\n",
    "df[condition].head(4)"
   ]
  },
  {
   "cell_type": "markdown",
   "id": "nSlQRRNrwn8S",
   "metadata": {
    "id": "nSlQRRNrwn8S"
   },
   "source": [
    "We can apply multiple conditional queries like before. For example, if we want to display all Married female people who lived in New York then we use the following:"
   ]
  },
  {
   "cell_type": "code",
   "execution_count": 70,
   "id": "YvIpSZM2xiD4",
   "metadata": {
    "colab": {
     "base_uri": "https://localhost:8080/",
     "height": 239
    },
    "id": "YvIpSZM2xiD4",
    "outputId": "90428598-504d-4a2d-8808-c0ea210c718e"
   },
   "outputs": [
    {
     "data": {
      "text/html": [
       "<div>\n",
       "<style scoped>\n",
       "    .dataframe tbody tr th:only-of-type {\n",
       "        vertical-align: middle;\n",
       "    }\n",
       "\n",
       "    .dataframe tbody tr th {\n",
       "        vertical-align: top;\n",
       "    }\n",
       "\n",
       "    .dataframe thead th {\n",
       "        text-align: right;\n",
       "    }\n",
       "</style>\n",
       "<table border=\"1\" class=\"dataframe\">\n",
       "  <thead>\n",
       "    <tr style=\"text-align: right;\">\n",
       "      <th></th>\n",
       "      <th>Transaction_date</th>\n",
       "      <th>Gender</th>\n",
       "      <th>Age</th>\n",
       "      <th>Marital_status</th>\n",
       "      <th>State_names</th>\n",
       "      <th>Segment</th>\n",
       "      <th>Employees_status</th>\n",
       "      <th>Payment_method</th>\n",
       "      <th>Referal</th>\n",
       "      <th>Amount_spent</th>\n",
       "    </tr>\n",
       "  </thead>\n",
       "  <tbody>\n",
       "    <tr>\n",
       "      <th>164</th>\n",
       "      <td>3/1/2019</td>\n",
       "      <td>Female</td>\n",
       "      <td>64.0</td>\n",
       "      <td>Married</td>\n",
       "      <td>New York</td>\n",
       "      <td>Basic</td>\n",
       "      <td>Employees</td>\n",
       "      <td>PayPal</td>\n",
       "      <td>1.0</td>\n",
       "      <td>1581.77</td>\n",
       "    </tr>\n",
       "    <tr>\n",
       "      <th>180</th>\n",
       "      <td>3/7/2019</td>\n",
       "      <td>Female</td>\n",
       "      <td>20.0</td>\n",
       "      <td>Married</td>\n",
       "      <td>New York</td>\n",
       "      <td>Basic</td>\n",
       "      <td>workers</td>\n",
       "      <td>PayPal</td>\n",
       "      <td>1.0</td>\n",
       "      <td>2694.20</td>\n",
       "    </tr>\n",
       "    <tr>\n",
       "      <th>254</th>\n",
       "      <td>3/31/2019</td>\n",
       "      <td>Female</td>\n",
       "      <td>78.0</td>\n",
       "      <td>Married</td>\n",
       "      <td>New York</td>\n",
       "      <td>Missing</td>\n",
       "      <td>Employees</td>\n",
       "      <td>PayPal</td>\n",
       "      <td>1.0</td>\n",
       "      <td>2959.54</td>\n",
       "    </tr>\n",
       "    <tr>\n",
       "      <th>282</th>\n",
       "      <td>4/8/2019</td>\n",
       "      <td>Female</td>\n",
       "      <td>32.0</td>\n",
       "      <td>Married</td>\n",
       "      <td>New York</td>\n",
       "      <td>Gold</td>\n",
       "      <td>Unemployment</td>\n",
       "      <td>Other</td>\n",
       "      <td>1.0</td>\n",
       "      <td>522.24</td>\n",
       "    </tr>\n",
       "  </tbody>\n",
       "</table>\n",
       "</div>"
      ],
      "text/plain": [
       "    Transaction_date  Gender   Age Marital_status State_names  Segment  \\\n",
       "164         3/1/2019  Female  64.0        Married    New York    Basic   \n",
       "180         3/7/2019  Female  20.0        Married    New York    Basic   \n",
       "254        3/31/2019  Female  78.0        Married    New York  Missing   \n",
       "282         4/8/2019  Female  32.0        Married    New York     Gold   \n",
       "\n",
       "    Employees_status Payment_method  Referal  Amount_spent  \n",
       "164        Employees         PayPal      1.0       1581.77  \n",
       "180          workers         PayPal      1.0       2694.20  \n",
       "254        Employees         PayPal      1.0       2959.54  \n",
       "282     Unemployment          Other      1.0        522.24  "
      ]
     },
     "execution_count": 70,
     "metadata": {},
     "output_type": "execute_result"
    }
   ],
   "source": [
    "# first create 3 condition\n",
    "female_person = df['Gender'] == 'Female'\n",
    "married_person = df['Marital_status'] == 'Married'\n",
    "loc_newyork = df['State_names'] == 'New York'\n",
    "\n",
    "# we passing condition on our dataframe\n",
    "df[female_person & married_person & loc_newyork].head(4)"
   ]
  },
  {
   "cell_type": "markdown",
   "id": "x0r-TXU244iu",
   "metadata": {
    "id": "x0r-TXU244iu"
   },
   "source": [
    "### 5.3 Summarizing or grouping data"
   ]
  },
  {
   "cell_type": "markdown",
   "id": "NtTwyDD77VG0",
   "metadata": {
    "id": "NtTwyDD77VG0"
   },
   "source": [
    "#### Groupby\n"
   ]
  },
  {
   "cell_type": "markdown",
   "id": "2o84INb7AsFp",
   "metadata": {
    "id": "2o84INb7AsFp"
   },
   "source": [
    "**Grouping by one column:** For example, if we want to find `maximum` values of `Age` and `Amount_spent` by `Gender` then we can use this:"
   ]
  },
  {
   "cell_type": "code",
   "execution_count": 71,
   "id": "2p_-CTIG-hSk",
   "metadata": {
    "colab": {
     "base_uri": "https://localhost:8080/",
     "height": 239
    },
    "id": "2p_-CTIG-hSk",
    "outputId": "a869040b-7a8a-436d-bb36-ace6274b0b2e"
   },
   "outputs": [
    {
     "data": {
      "text/html": [
       "<div>\n",
       "<style scoped>\n",
       "    .dataframe tbody tr th:only-of-type {\n",
       "        vertical-align: middle;\n",
       "    }\n",
       "\n",
       "    .dataframe tbody tr th {\n",
       "        vertical-align: top;\n",
       "    }\n",
       "\n",
       "    .dataframe thead th {\n",
       "        text-align: right;\n",
       "    }\n",
       "</style>\n",
       "<table border=\"1\" class=\"dataframe\">\n",
       "  <thead>\n",
       "    <tr style=\"text-align: right;\">\n",
       "      <th></th>\n",
       "      <th>Age</th>\n",
       "      <th>Amount_spent</th>\n",
       "    </tr>\n",
       "    <tr>\n",
       "      <th>Gender</th>\n",
       "      <th></th>\n",
       "      <th></th>\n",
       "    </tr>\n",
       "  </thead>\n",
       "  <tbody>\n",
       "    <tr>\n",
       "      <th>Female</th>\n",
       "      <td>78.0</td>\n",
       "      <td>2999.98</td>\n",
       "    </tr>\n",
       "    <tr>\n",
       "      <th>Male</th>\n",
       "      <td>78.0</td>\n",
       "      <td>2998.62</td>\n",
       "    </tr>\n",
       "    <tr>\n",
       "      <th>Unknown</th>\n",
       "      <td>72.0</td>\n",
       "      <td>2909.85</td>\n",
       "    </tr>\n",
       "  </tbody>\n",
       "</table>\n",
       "</div>"
      ],
      "text/plain": [
       "          Age  Amount_spent\n",
       "Gender                     \n",
       "Female   78.0       2999.98\n",
       "Male     78.0       2998.62\n",
       "Unknown  72.0       2909.85"
      ]
     },
     "execution_count": 71,
     "metadata": {},
     "output_type": "execute_result"
    }
   ],
   "source": [
    "df[['Age', 'Amount_spent']].groupby(df['Gender']).max()\n"
   ]
  },
  {
   "cell_type": "markdown",
   "id": "7WCCLbwfCy_q",
   "metadata": {
    "id": "7WCCLbwfCy_q"
   },
   "source": [
    "To find `mean`, `count`, and `max` values of `Age` and `Amount_spent` by `Gender` then we can use `agg()` function with `groupby()` ."
   ]
  },
  {
   "cell_type": "code",
   "execution_count": 72,
   "id": "2b47c9d9",
   "metadata": {
    "colab": {
     "base_uri": "https://localhost:8080/",
     "height": 270
    },
    "id": "2b47c9d9",
    "outputId": "d1841bb4-b8cc-4b2c-b128-dfd43fca356a"
   },
   "outputs": [
    {
     "data": {
      "text/html": [
       "<div>\n",
       "<style scoped>\n",
       "    .dataframe tbody tr th:only-of-type {\n",
       "        vertical-align: middle;\n",
       "    }\n",
       "\n",
       "    .dataframe tbody tr th {\n",
       "        vertical-align: top;\n",
       "    }\n",
       "\n",
       "    .dataframe thead tr th {\n",
       "        text-align: left;\n",
       "    }\n",
       "\n",
       "    .dataframe thead tr:last-of-type th {\n",
       "        text-align: right;\n",
       "    }\n",
       "</style>\n",
       "<table border=\"1\" class=\"dataframe\">\n",
       "  <thead>\n",
       "    <tr>\n",
       "      <th></th>\n",
       "      <th colspan=\"3\" halign=\"left\">Age</th>\n",
       "      <th colspan=\"3\" halign=\"left\">Amount_spent</th>\n",
       "    </tr>\n",
       "    <tr>\n",
       "      <th></th>\n",
       "      <th>count</th>\n",
       "      <th>mean</th>\n",
       "      <th>max</th>\n",
       "      <th>count</th>\n",
       "      <th>mean</th>\n",
       "      <th>max</th>\n",
       "    </tr>\n",
       "    <tr>\n",
       "      <th>Gender</th>\n",
       "      <th></th>\n",
       "      <th></th>\n",
       "      <th></th>\n",
       "      <th></th>\n",
       "      <th></th>\n",
       "      <th></th>\n",
       "    </tr>\n",
       "  </thead>\n",
       "  <tbody>\n",
       "    <tr>\n",
       "      <th>Female</th>\n",
       "      <td>1351</td>\n",
       "      <td>46.816432</td>\n",
       "      <td>78.0</td>\n",
       "      <td>1351</td>\n",
       "      <td>1429.471760</td>\n",
       "      <td>2999.98</td>\n",
       "    </tr>\n",
       "    <tr>\n",
       "      <th>Male</th>\n",
       "      <td>1121</td>\n",
       "      <td>46.525424</td>\n",
       "      <td>78.0</td>\n",
       "      <td>1121</td>\n",
       "      <td>1409.420962</td>\n",
       "      <td>2998.62</td>\n",
       "    </tr>\n",
       "    <tr>\n",
       "      <th>Unknown</th>\n",
       "      <td>28</td>\n",
       "      <td>42.357143</td>\n",
       "      <td>72.0</td>\n",
       "      <td>28</td>\n",
       "      <td>1350.078699</td>\n",
       "      <td>2909.85</td>\n",
       "    </tr>\n",
       "  </tbody>\n",
       "</table>\n",
       "</div>"
      ],
      "text/plain": [
       "          Age                  Amount_spent                      \n",
       "        count       mean   max        count         mean      max\n",
       "Gender                                                           \n",
       "Female   1351  46.816432  78.0         1351  1429.471760  2999.98\n",
       "Male     1121  46.525424  78.0         1121  1409.420962  2998.62\n",
       "Unknown    28  42.357143  72.0           28  1350.078699  2909.85"
      ]
     },
     "execution_count": 72,
     "metadata": {},
     "output_type": "execute_result"
    }
   ],
   "source": [
    "# Group by one columns\n",
    "state_gender_res = df[['Age','Gender','Amount_spent']].groupby(['Gender']).agg(['count', 'mean', 'max'])\n",
    "state_gender_res"
   ]
  },
  {
   "cell_type": "markdown",
   "id": "9umxlA7YDjvD",
   "metadata": {
    "id": "9umxlA7YDjvD"
   },
   "source": [
    "**Grouping by multiple columns:** To find total count, maximum and minimum values of Amount_spent by State_names, Gender, and Payment_method then we can pass these columns names under `groupby()` function and add `.agg()` with `count`, `mean`, `max` argument."
   ]
  },
  {
   "cell_type": "code",
   "execution_count": 89,
   "id": "667947eb",
   "metadata": {
    "colab": {
     "base_uri": "https://localhost:8080/",
     "height": 553
    },
    "id": "667947eb",
    "outputId": "73bcc08e-0ed0-48bb-97db-3f827c9fe709"
   },
   "outputs": [
    {
     "data": {
      "text/html": [
       "<div>\n",
       "<style scoped>\n",
       "    .dataframe tbody tr th:only-of-type {\n",
       "        vertical-align: middle;\n",
       "    }\n",
       "\n",
       "    .dataframe tbody tr th {\n",
       "        vertical-align: top;\n",
       "    }\n",
       "\n",
       "    .dataframe thead tr th {\n",
       "        text-align: left;\n",
       "    }\n",
       "\n",
       "    .dataframe thead tr:last-of-type th {\n",
       "        text-align: right;\n",
       "    }\n",
       "</style>\n",
       "<table border=\"1\" class=\"dataframe\">\n",
       "  <thead>\n",
       "    <tr>\n",
       "      <th></th>\n",
       "      <th></th>\n",
       "      <th></th>\n",
       "      <th colspan=\"3\" halign=\"left\">Amount_spent</th>\n",
       "    </tr>\n",
       "    <tr>\n",
       "      <th></th>\n",
       "      <th></th>\n",
       "      <th></th>\n",
       "      <th>count</th>\n",
       "      <th>min</th>\n",
       "      <th>max</th>\n",
       "    </tr>\n",
       "    <tr>\n",
       "      <th>State_names</th>\n",
       "      <th>Gender</th>\n",
       "      <th>Payment_method</th>\n",
       "      <th></th>\n",
       "      <th></th>\n",
       "      <th></th>\n",
       "    </tr>\n",
       "  </thead>\n",
       "  <tbody>\n",
       "    <tr>\n",
       "      <th rowspan=\"7\" valign=\"top\">Alabama</th>\n",
       "      <th rowspan=\"3\" valign=\"top\">Female</th>\n",
       "      <th>Card</th>\n",
       "      <td>8</td>\n",
       "      <td>413.11</td>\n",
       "      <td>2749.37</td>\n",
       "    </tr>\n",
       "    <tr>\n",
       "      <th>Other</th>\n",
       "      <td>6</td>\n",
       "      <td>851.25</td>\n",
       "      <td>2789.52</td>\n",
       "    </tr>\n",
       "    <tr>\n",
       "      <th>PayPal</th>\n",
       "      <td>6</td>\n",
       "      <td>77.90</td>\n",
       "      <td>2520.85</td>\n",
       "    </tr>\n",
       "    <tr>\n",
       "      <th rowspan=\"3\" valign=\"top\">Male</th>\n",
       "      <th>Card</th>\n",
       "      <td>6</td>\n",
       "      <td>221.17</td>\n",
       "      <td>2735.65</td>\n",
       "    </tr>\n",
       "    <tr>\n",
       "      <th>Other</th>\n",
       "      <td>4</td>\n",
       "      <td>459.47</td>\n",
       "      <td>1691.62</td>\n",
       "    </tr>\n",
       "    <tr>\n",
       "      <th>PayPal</th>\n",
       "      <td>11</td>\n",
       "      <td>87.88</td>\n",
       "      <td>2876.36</td>\n",
       "    </tr>\n",
       "    <tr>\n",
       "      <th>Unknown</th>\n",
       "      <th>PayPal</th>\n",
       "      <td>1</td>\n",
       "      <td>1716.37</td>\n",
       "      <td>1716.37</td>\n",
       "    </tr>\n",
       "    <tr>\n",
       "      <th rowspan=\"5\" valign=\"top\">Alaska</th>\n",
       "      <th rowspan=\"3\" valign=\"top\">Female</th>\n",
       "      <th>Card</th>\n",
       "      <td>6</td>\n",
       "      <td>141.50</td>\n",
       "      <td>1988.38</td>\n",
       "    </tr>\n",
       "    <tr>\n",
       "      <th>Other</th>\n",
       "      <td>8</td>\n",
       "      <td>489.16</td>\n",
       "      <td>2970.00</td>\n",
       "    </tr>\n",
       "    <tr>\n",
       "      <th>PayPal</th>\n",
       "      <td>10</td>\n",
       "      <td>462.96</td>\n",
       "      <td>2615.89</td>\n",
       "    </tr>\n",
       "    <tr>\n",
       "      <th rowspan=\"2\" valign=\"top\">Male</th>\n",
       "      <th>Card</th>\n",
       "      <td>1</td>\n",
       "      <td>2497.31</td>\n",
       "      <td>2497.31</td>\n",
       "    </tr>\n",
       "    <tr>\n",
       "      <th>Other</th>\n",
       "      <td>8</td>\n",
       "      <td>588.88</td>\n",
       "      <td>2977.82</td>\n",
       "    </tr>\n",
       "  </tbody>\n",
       "</table>\n",
       "</div>"
      ],
      "text/plain": [
       "                                   Amount_spent                  \n",
       "                                          count      min      max\n",
       "State_names Gender  Payment_method                               \n",
       "Alabama     Female  Card                      8   413.11  2749.37\n",
       "                    Other                     6   851.25  2789.52\n",
       "                    PayPal                    6    77.90  2520.85\n",
       "            Male    Card                      6   221.17  2735.65\n",
       "                    Other                     4   459.47  1691.62\n",
       "                    PayPal                   11    87.88  2876.36\n",
       "            Unknown PayPal                    1  1716.37  1716.37\n",
       "Alaska      Female  Card                      6   141.50  1988.38\n",
       "                    Other                     8   489.16  2970.00\n",
       "                    PayPal                   10   462.96  2615.89\n",
       "            Male    Card                      1  2497.31  2497.31\n",
       "                    Other                     8   588.88  2977.82"
      ]
     },
     "execution_count": 89,
     "metadata": {},
     "output_type": "execute_result"
    }
   ],
   "source": [
    "#Group By multiple columns\n",
    "state_gender_res = df[['State_names','Gender','Payment_method','Amount_spent']].groupby([ 'State_names','Gender', 'Payment_method']).agg(['count', 'min', 'max'])\n",
    "state_gender_res.head(12)"
   ]
  },
  {
   "cell_type": "markdown",
   "id": "BTEMA10_JfrV",
   "metadata": {
    "id": "BTEMA10_JfrV"
   },
   "source": [
    "#### Cross Tabulation (Crosstab)"
   ]
  },
  {
   "cell_type": "markdown",
   "id": "bNNkQ9-eRclS",
   "metadata": {
    "id": "bNNkQ9-eRclS"
   },
   "source": [
    "For creating a simple crosstab between Maritatal_status and Payment_method columns we just use `crosstab()` with both column names."
   ]
  },
  {
   "cell_type": "code",
   "execution_count": 90,
   "id": "_9rixwbc5VEe",
   "metadata": {
    "colab": {
     "base_uri": "https://localhost:8080/",
     "height": 207
    },
    "id": "_9rixwbc5VEe",
    "outputId": "487a2393-48ac-474f-c985-7fd3f6a25f44"
   },
   "outputs": [
    {
     "data": {
      "text/html": [
       "<div>\n",
       "<style scoped>\n",
       "    .dataframe tbody tr th:only-of-type {\n",
       "        vertical-align: middle;\n",
       "    }\n",
       "\n",
       "    .dataframe tbody tr th {\n",
       "        vertical-align: top;\n",
       "    }\n",
       "\n",
       "    .dataframe thead th {\n",
       "        text-align: right;\n",
       "    }\n",
       "</style>\n",
       "<table border=\"1\" class=\"dataframe\">\n",
       "  <thead>\n",
       "    <tr style=\"text-align: right;\">\n",
       "      <th>Payment_method</th>\n",
       "      <th>Card</th>\n",
       "      <th>Other</th>\n",
       "      <th>PayPal</th>\n",
       "    </tr>\n",
       "    <tr>\n",
       "      <th>Marital_status</th>\n",
       "      <th></th>\n",
       "      <th></th>\n",
       "      <th></th>\n",
       "    </tr>\n",
       "  </thead>\n",
       "  <tbody>\n",
       "    <tr>\n",
       "      <th>Married</th>\n",
       "      <td>440</td>\n",
       "      <td>357</td>\n",
       "      <td>667</td>\n",
       "    </tr>\n",
       "    <tr>\n",
       "      <th>Single</th>\n",
       "      <td>307</td>\n",
       "      <td>232</td>\n",
       "      <td>497</td>\n",
       "    </tr>\n",
       "  </tbody>\n",
       "</table>\n",
       "</div>"
      ],
      "text/plain": [
       "Payment_method  Card  Other  PayPal\n",
       "Marital_status                     \n",
       "Married          440    357     667\n",
       "Single           307    232     497"
      ]
     },
     "execution_count": 90,
     "metadata": {},
     "output_type": "execute_result"
    }
   ],
   "source": [
    "pd.crosstab(df.Marital_status, df.Payment_method)"
   ]
  },
  {
   "cell_type": "markdown",
   "id": "OK_gu5KFSETb",
   "metadata": {
    "id": "OK_gu5KFSETb"
   },
   "source": [
    "We can include subtotals by `margins` parameter:"
   ]
  },
  {
   "cell_type": "code",
   "execution_count": 91,
   "id": "UNpAxzbLSMBJ",
   "metadata": {
    "colab": {
     "base_uri": "https://localhost:8080/",
     "height": 239
    },
    "id": "UNpAxzbLSMBJ",
    "outputId": "ef309136-ece9-4989-b294-f0648f70a879"
   },
   "outputs": [
    {
     "data": {
      "text/html": [
       "<div>\n",
       "<style scoped>\n",
       "    .dataframe tbody tr th:only-of-type {\n",
       "        vertical-align: middle;\n",
       "    }\n",
       "\n",
       "    .dataframe tbody tr th {\n",
       "        vertical-align: top;\n",
       "    }\n",
       "\n",
       "    .dataframe thead th {\n",
       "        text-align: right;\n",
       "    }\n",
       "</style>\n",
       "<table border=\"1\" class=\"dataframe\">\n",
       "  <thead>\n",
       "    <tr style=\"text-align: right;\">\n",
       "      <th>Payment_method</th>\n",
       "      <th>Card</th>\n",
       "      <th>Other</th>\n",
       "      <th>PayPal</th>\n",
       "      <th>Total</th>\n",
       "    </tr>\n",
       "    <tr>\n",
       "      <th>Marital_status</th>\n",
       "      <th></th>\n",
       "      <th></th>\n",
       "      <th></th>\n",
       "      <th></th>\n",
       "    </tr>\n",
       "  </thead>\n",
       "  <tbody>\n",
       "    <tr>\n",
       "      <th>Married</th>\n",
       "      <td>440</td>\n",
       "      <td>357</td>\n",
       "      <td>667</td>\n",
       "      <td>1464</td>\n",
       "    </tr>\n",
       "    <tr>\n",
       "      <th>Single</th>\n",
       "      <td>307</td>\n",
       "      <td>232</td>\n",
       "      <td>497</td>\n",
       "      <td>1036</td>\n",
       "    </tr>\n",
       "    <tr>\n",
       "      <th>Total</th>\n",
       "      <td>747</td>\n",
       "      <td>589</td>\n",
       "      <td>1164</td>\n",
       "      <td>2500</td>\n",
       "    </tr>\n",
       "  </tbody>\n",
       "</table>\n",
       "</div>"
      ],
      "text/plain": [
       "Payment_method  Card  Other  PayPal  Total\n",
       "Marital_status                            \n",
       "Married          440    357     667   1464\n",
       "Single           307    232     497   1036\n",
       "Total            747    589    1164   2500"
      ]
     },
     "execution_count": 91,
     "metadata": {},
     "output_type": "execute_result"
    }
   ],
   "source": [
    "pd.crosstab(df.Marital_status, df.Payment_method, margins=True, margins_name=\"Total\")"
   ]
  },
  {
   "cell_type": "markdown",
   "id": "rDLBsIoZVRUK",
   "metadata": {
    "id": "rDLBsIoZVRUK"
   },
   "source": [
    "If We want a display with percentage than `normalize=True` parameter help"
   ]
  },
  {
   "cell_type": "code",
   "execution_count": 76,
   "id": "rM6o2CocVeYG",
   "metadata": {
    "colab": {
     "base_uri": "https://localhost:8080/",
     "height": 239
    },
    "id": "rM6o2CocVeYG",
    "outputId": "ca351fca-c0e5-46bf-aac3-8b05ed1a8859"
   },
   "outputs": [
    {
     "data": {
      "text/html": [
       "<div>\n",
       "<style scoped>\n",
       "    .dataframe tbody tr th:only-of-type {\n",
       "        vertical-align: middle;\n",
       "    }\n",
       "\n",
       "    .dataframe tbody tr th {\n",
       "        vertical-align: top;\n",
       "    }\n",
       "\n",
       "    .dataframe thead th {\n",
       "        text-align: right;\n",
       "    }\n",
       "</style>\n",
       "<table border=\"1\" class=\"dataframe\">\n",
       "  <thead>\n",
       "    <tr style=\"text-align: right;\">\n",
       "      <th>Payment_method</th>\n",
       "      <th>Card</th>\n",
       "      <th>Other</th>\n",
       "      <th>PayPal</th>\n",
       "      <th>Total</th>\n",
       "    </tr>\n",
       "    <tr>\n",
       "      <th>Marital_status</th>\n",
       "      <th></th>\n",
       "      <th></th>\n",
       "      <th></th>\n",
       "      <th></th>\n",
       "    </tr>\n",
       "  </thead>\n",
       "  <tbody>\n",
       "    <tr>\n",
       "      <th>Married</th>\n",
       "      <td>0.1760</td>\n",
       "      <td>0.1428</td>\n",
       "      <td>0.2668</td>\n",
       "      <td>0.5856</td>\n",
       "    </tr>\n",
       "    <tr>\n",
       "      <th>Single</th>\n",
       "      <td>0.1228</td>\n",
       "      <td>0.0928</td>\n",
       "      <td>0.1988</td>\n",
       "      <td>0.4144</td>\n",
       "    </tr>\n",
       "    <tr>\n",
       "      <th>Total</th>\n",
       "      <td>0.2988</td>\n",
       "      <td>0.2356</td>\n",
       "      <td>0.4656</td>\n",
       "      <td>1.0000</td>\n",
       "    </tr>\n",
       "  </tbody>\n",
       "</table>\n",
       "</div>"
      ],
      "text/plain": [
       "Payment_method    Card   Other  PayPal   Total\n",
       "Marital_status                                \n",
       "Married         0.1760  0.1428  0.2668  0.5856\n",
       "Single          0.1228  0.0928  0.1988  0.4144\n",
       "Total           0.2988  0.2356  0.4656  1.0000"
      ]
     },
     "execution_count": 76,
     "metadata": {},
     "output_type": "execute_result"
    }
   ],
   "source": [
    "pd.crosstab(df.Marital_status, df.Payment_method, normalize=True, margins=True, margins_name=\"Total\")"
   ]
  },
  {
   "cell_type": "markdown",
   "id": "D3GJPV8aVxsD",
   "metadata": {
    "id": "D3GJPV8aVxsD"
   },
   "source": [
    "In this crosstab features, we can pass multiple columns names for grouping and analyzing data. For instance, If we want to see how the `Payment_method` and `Employees_status` are distributed by `Marital_status` then we will pass these columns' names in `crosstab()` function and it will show below."
   ]
  },
  {
   "cell_type": "code",
   "execution_count": 77,
   "id": "uIHl15rL6fzm",
   "metadata": {
    "colab": {
     "base_uri": "https://localhost:8080/",
     "height": 256
    },
    "id": "uIHl15rL6fzm",
    "outputId": "bd6a1d6c-33c9-48c5-f616-9f103157da86"
   },
   "outputs": [
    {
     "data": {
      "text/html": [
       "<div>\n",
       "<style scoped>\n",
       "    .dataframe tbody tr th:only-of-type {\n",
       "        vertical-align: middle;\n",
       "    }\n",
       "\n",
       "    .dataframe tbody tr th {\n",
       "        vertical-align: top;\n",
       "    }\n",
       "\n",
       "    .dataframe thead tr th {\n",
       "        text-align: left;\n",
       "    }\n",
       "\n",
       "    .dataframe thead tr:last-of-type th {\n",
       "        text-align: right;\n",
       "    }\n",
       "</style>\n",
       "<table border=\"1\" class=\"dataframe\">\n",
       "  <thead>\n",
       "    <tr>\n",
       "      <th>Payment_method</th>\n",
       "      <th colspan=\"4\" halign=\"left\">Card</th>\n",
       "      <th colspan=\"4\" halign=\"left\">Other</th>\n",
       "      <th colspan=\"4\" halign=\"left\">PayPal</th>\n",
       "    </tr>\n",
       "    <tr>\n",
       "      <th>Employees_status</th>\n",
       "      <th>Employees</th>\n",
       "      <th>Unemployment</th>\n",
       "      <th>self-employed</th>\n",
       "      <th>workers</th>\n",
       "      <th>Employees</th>\n",
       "      <th>Unemployment</th>\n",
       "      <th>self-employed</th>\n",
       "      <th>workers</th>\n",
       "      <th>Employees</th>\n",
       "      <th>Unemployment</th>\n",
       "      <th>self-employed</th>\n",
       "      <th>workers</th>\n",
       "    </tr>\n",
       "    <tr>\n",
       "      <th>Marital_status</th>\n",
       "      <th></th>\n",
       "      <th></th>\n",
       "      <th></th>\n",
       "      <th></th>\n",
       "      <th></th>\n",
       "      <th></th>\n",
       "      <th></th>\n",
       "      <th></th>\n",
       "      <th></th>\n",
       "      <th></th>\n",
       "      <th></th>\n",
       "      <th></th>\n",
       "    </tr>\n",
       "  </thead>\n",
       "  <tbody>\n",
       "    <tr>\n",
       "      <th>Married</th>\n",
       "      <td>185</td>\n",
       "      <td>38</td>\n",
       "      <td>81</td>\n",
       "      <td>136</td>\n",
       "      <td>127</td>\n",
       "      <td>39</td>\n",
       "      <td>78</td>\n",
       "      <td>113</td>\n",
       "      <td>265</td>\n",
       "      <td>66</td>\n",
       "      <td>120</td>\n",
       "      <td>216</td>\n",
       "    </tr>\n",
       "    <tr>\n",
       "      <th>Single</th>\n",
       "      <td>117</td>\n",
       "      <td>37</td>\n",
       "      <td>57</td>\n",
       "      <td>96</td>\n",
       "      <td>96</td>\n",
       "      <td>17</td>\n",
       "      <td>43</td>\n",
       "      <td>76</td>\n",
       "      <td>178</td>\n",
       "      <td>55</td>\n",
       "      <td>106</td>\n",
       "      <td>158</td>\n",
       "    </tr>\n",
       "  </tbody>\n",
       "</table>\n",
       "</div>"
      ],
      "text/plain": [
       "Payment_method        Card                                        Other  \\\n",
       "Employees_status Employees Unemployment self-employed workers Employees   \n",
       "Marital_status                                                            \n",
       "Married                185           38            81     136       127   \n",
       "Single                 117           37            57      96        96   \n",
       "\n",
       "Payment_method                                         PayPal               \\\n",
       "Employees_status Unemployment self-employed workers Employees Unemployment   \n",
       "Marital_status                                                               \n",
       "Married                    39            78     113       265           66   \n",
       "Single                     17            43      76       178           55   \n",
       "\n",
       "Payment_method                          \n",
       "Employees_status self-employed workers  \n",
       "Marital_status                          \n",
       "Married                    120     216  \n",
       "Single                     106     158  "
      ]
     },
     "execution_count": 77,
     "metadata": {},
     "output_type": "execute_result"
    }
   ],
   "source": [
    "pd.crosstab(df.Marital_status, [df.Payment_method, df.Employees_status])"
   ]
  },
  {
   "cell_type": "markdown",
   "id": "2c7fbc9c",
   "metadata": {
    "id": "2c7fbc9c"
   },
   "source": [
    "## 6. Data Visualization"
   ]
  },
  {
   "cell_type": "markdown",
   "id": "uOkFj7ixq9d2",
   "metadata": {
    "id": "uOkFj7ixq9d2"
   },
   "source": [
    "Visualization is the key to data analysis. The most popular python package for visualization are matplotlib and seaborn but sometimes pandas will be handy for you. Pandas also provide some visualization plots easily. For the basic analysis part, it will be easy to use. For this section, we are exploring some different types of plots using pandas. Here are the plots."
   ]
  },
  {
   "cell_type": "markdown",
   "id": "GeYsxRfly4Oq",
   "metadata": {
    "id": "GeYsxRfly4Oq"
   },
   "source": [
    "### 6.1 Line plot\n"
   ]
  },
  {
   "cell_type": "markdown",
   "id": "x4GV-jQS3Wf3",
   "metadata": {
    "id": "x4GV-jQS3Wf3"
   },
   "source": [
    "For creating a line plot in pandas we use `.plot()` with two columns name for the argument. For example, we create a line plot from one dummy dataset."
   ]
  },
  {
   "cell_type": "code",
   "execution_count": 78,
   "id": "5uTSu01EmH-p",
   "metadata": {
    "id": "5uTSu01EmH-p"
   },
   "outputs": [],
   "source": [
    "dict_line = {\n",
    "    'year': [2016, 2017, 2018, 2019, 2020, 2021],\n",
    "    'price': [200, 250, 260, 220, 280, 300]\n",
    "}\n",
    "df_line = pd.DataFrame(dict_line)"
   ]
  },
  {
   "cell_type": "code",
   "execution_count": 79,
   "id": "Q8Oo5OrpnSQe",
   "metadata": {
    "colab": {
     "base_uri": "https://localhost:8080/",
     "height": 54
    },
    "id": "Q8Oo5OrpnSQe",
    "outputId": "25b6e6f7-f592-4e5e-fcb9-12c8c0750c04"
   },
   "outputs": [
    {
     "data": {
      "image/png": "[encoded data removed]",
      "text/plain": [
       "<Figure size 432x288 with 1 Axes>"
      ]
     },
     "metadata": {
      "needs_background": "light"
     },
     "output_type": "display_data"
    }
   ],
   "source": [
    "# use plot() method on the dataframe\n",
    "df_line.plot('year', 'price');"
   ]
  },
  {
   "cell_type": "markdown",
   "id": "setZs0vH35tj",
   "metadata": {
    "id": "setZs0vH35tj"
   },
   "source": [
    "The above line chart shows prices over a different time. It shows like price trend."
   ]
  },
  {
   "cell_type": "markdown",
   "id": "ki2MpNQ6bQUW",
   "metadata": {
    "id": "ki2MpNQ6bQUW"
   },
   "source": [
    "### 6.2 Bar plot\n",
    "\n",
    "A bar plot is also known as a bar chart shows quantitative or qualitative values for different category items. In a bar plot data are represented in the form of bars. Bars length or height are used to represent the quantitative value for each item. Bar plot can be plotted horizontally or vertically. For creating these plots look below."
   ]
  },
  {
   "cell_type": "markdown",
   "id": "c0o6W3oobIA9",
   "metadata": {
    "id": "c0o6W3oobIA9"
   },
   "source": [
    "**For horizontal bar:**"
   ]
  },
  {
   "cell_type": "code",
   "execution_count": 80,
   "id": "ykQ0Vz8GZr63",
   "metadata": {
    "colab": {
     "base_uri": "https://localhost:8080/",
     "height": 54
    },
    "id": "ykQ0Vz8GZr63",
    "outputId": "6f5bc5e8-7044-48b6-dbe0-1011768c844f"
   },
   "outputs": [
    {
     "data": {
      "image/png": "[encoded data removed]",
      "text/plain": [
       "<Figure size 432x288 with 1 Axes>"
      ]
     },
     "metadata": {
      "needs_background": "light"
     },
     "output_type": "display_data"
    }
   ],
   "source": [
    "df['Employees_status'].value_counts().plot(kind='bar');"
   ]
  },
  {
   "cell_type": "markdown",
   "id": "hUW2_IyhbNtQ",
   "metadata": {
    "id": "hUW2_IyhbNtQ"
   },
   "source": [
    "**For vertical bar:**"
   ]
  },
  {
   "cell_type": "code",
   "execution_count": 81,
   "id": "0RFfg-TzbTB5",
   "metadata": {
    "colab": {
     "base_uri": "https://localhost:8080/",
     "height": 54
    },
    "id": "0RFfg-TzbTB5",
    "outputId": "351e0a40-76f0-48a1-a21a-3dcb2ddb323b"
   },
   "outputs": [
    {
     "data": {
      "image/png": "[encoded data removed]",
      "text/plain": [
       "<Figure size 432x288 with 1 Axes>"
      ]
     },
     "metadata": {
      "needs_background": "light"
     },
     "output_type": "display_data"
    }
   ],
   "source": [
    "df['Employees_status'].value_counts().plot(kind='barh');"
   ]
  },
  {
   "cell_type": "markdown",
   "id": "ZdCUNgj9iKHo",
   "metadata": {
    "id": "ZdCUNgj9iKHo"
   },
   "source": [
    "### 6.3 Pie plot"
   ]
  },
  {
   "cell_type": "markdown",
   "id": "EG1XHZHLbiFX",
   "metadata": {
    "id": "EG1XHZHLbiFX"
   },
   "source": [
    "A pie plot is also known as a pie chart. A pie plot is a circular graph that represents the total value with its components. The area of a circle represents the total value and the different sectors of the circle represent the different parts. In this plot, the data are expressed as percentages. Each component is expressed as a percentage of the total value."
   ]
  },
  {
   "cell_type": "markdown",
   "id": "DYGE4SaNcZLo",
   "metadata": {
    "id": "DYGE4SaNcZLo"
   },
   "source": [
    "In pandas for creating pie plot. We use `kind=pie` in `plot()` function in dataframes columns or series."
   ]
  },
  {
   "cell_type": "code",
   "execution_count": 82,
   "id": "jf61Zg3GiPFp",
   "metadata": {
    "colab": {
     "base_uri": "https://localhost:8080/",
     "height": 54
    },
    "id": "jf61Zg3GiPFp",
    "outputId": "2ee80f09-b3b7-4b63-a33e-b577633ae034"
   },
   "outputs": [
    {
     "data": {
      "image/png": "[encoded data removed]",
      "text/plain": [
       "<Figure size 432x288 with 1 Axes>"
      ]
     },
     "metadata": {},
     "output_type": "display_data"
    }
   ],
   "source": [
    "df['Segment'].value_counts().plot(\n",
    "    kind='pie');"
   ]
  },
  {
   "cell_type": "markdown",
   "id": "utOuo_y6biXn",
   "metadata": {
    "id": "utOuo_y6biXn"
   },
   "source": [
    "### 6.4 Box Plot\n",
    "A box plot is also known as a box and whisker plot. This plot is used to show the distribution of a variable based on its quartiles. Box plot displays the five-number summary of a set of data. The five-number summary is the minimum, first quartile, median, third quartile, and maximum. It will also be popular to identify outliers."
   ]
  },
  {
   "cell_type": "markdown",
   "id": "FK-M1zjEeWoB",
   "metadata": {
    "id": "FK-M1zjEeWoB"
   },
   "source": [
    "We can plot this by one column or multiple columns. For multiple columns, we need to pass columns name in `y` variable as a list."
   ]
  },
  {
   "cell_type": "code",
   "execution_count": 83,
   "id": "Oh9c2_0xblDZ",
   "metadata": {
    "colab": {
     "base_uri": "https://localhost:8080/",
     "height": 54
    },
    "id": "Oh9c2_0xblDZ",
    "outputId": "91dee7e1-e2cf-4427-ccef-12065779ccfe"
   },
   "outputs": [
    {
     "data": {
      "image/png": "[encoded data removed]",
      "text/plain": [
       "<Figure size 432x288 with 1 Axes>"
      ]
     },
     "metadata": {
      "needs_background": "light"
     },
     "output_type": "display_data"
    }
   ],
   "source": [
    "df.plot(y=['Amount_spent'], kind='box');"
   ]
  },
  {
   "cell_type": "markdown",
   "id": "LsLAK0twwF5h",
   "metadata": {
    "id": "LsLAK0twwF5h"
   },
   "source": [
    "In a boxplot, we can plot the distribution of categorical variables against a numerical variable and compare them. Let's plot it with the Employees_status and Amount_spent columns with pandas `boxplot()` method:"
   ]
  },
  {
   "cell_type": "code",
   "execution_count": 84,
   "id": "CMdCBcUjtY85",
   "metadata": {
    "colab": {
     "base_uri": "https://localhost:8080/",
     "height": 54
    },
    "id": "CMdCBcUjtY85",
    "outputId": "07df85a0-9701-4139-fb5c-dcb7d69d1c11"
   },
   "outputs": [
    {
     "data": {
      "image/png": "[encoded data removed]",
      "text/plain": [
       "<Figure size 432x432 with 1 Axes>"
      ]
     },
     "metadata": {
      "needs_background": "light"
     },
     "output_type": "display_data"
    }
   ],
   "source": [
    "import matplotlib.pyplot as plt\n",
    "\n",
    "np.warnings.filterwarnings('ignore', category=np.VisibleDeprecationWarning) \n",
    "fig, ax = plt.subplots(figsize=(6,6)) \n",
    "\n",
    "df.boxplot(by ='Employees_status', column =['Amount_spent'],ax=ax, grid = False);"
   ]
  },
  {
   "cell_type": "markdown",
   "id": "XlioEpoHf5tx",
   "metadata": {
    "id": "XlioEpoHf5tx"
   },
   "source": [
    "### 6.5 Histogram\n",
    "\n",
    "A histogram shows the frequency and distribution of quantitative measurement across grouped values for data items. It is commonly used in statistics to show how many of a certain type of variable occurs within a specific range or bucket. Below we will plot a histogram for looking Age distribution."
   ]
  },
  {
   "cell_type": "code",
   "execution_count": 85,
   "id": "tIfoa79re8ca",
   "metadata": {
    "colab": {
     "base_uri": "https://localhost:8080/",
     "height": 54
    },
    "id": "tIfoa79re8ca",
    "outputId": "c4f92206-6f0a-4f85-9912-86a32e74ca3e"
   },
   "outputs": [
    {
     "data": {
      "image/png": "[encoded data removed]",
      "text/plain": [
       "<Figure size 432x288 with 1 Axes>"
      ]
     },
     "metadata": {
      "needs_background": "light"
     },
     "output_type": "display_data"
    }
   ],
   "source": [
    "df.plot(\n",
    "    y='Age',\n",
    "    kind='hist',\n",
    "    bins=10\n",
    ");"
   ]
  },
  {
   "cell_type": "markdown",
   "id": "zlw8AfaLgCIp",
   "metadata": {
    "id": "zlw8AfaLgCIp"
   },
   "source": [
    "### 6.6 KDE plot"
   ]
  },
  {
   "cell_type": "markdown",
   "id": "bsv4rB3rh9kY",
   "metadata": {
    "id": "bsv4rB3rh9kY"
   },
   "source": [
    "A kernel density estimate (KDE) plot is a method for visualizing the distribution of observations in a dataset, analogous to a histogram. KDE represents the data using a continuous probability density curve in one or more dimensions."
   ]
  },
  {
   "cell_type": "code",
   "execution_count": 86,
   "id": "YW8XyrPugFnL",
   "metadata": {
    "colab": {
     "base_uri": "https://localhost:8080/",
     "height": 54
    },
    "id": "YW8XyrPugFnL",
    "outputId": "852ab177-ecab-4060-f5de-67a7e56bd836"
   },
   "outputs": [
    {
     "data": {
      "image/png": "[encoded data removed]",
      "text/plain": [
       "<Figure size 432x288 with 1 Axes>"
      ]
     },
     "metadata": {
      "needs_background": "light"
     },
     "output_type": "display_data"
    }
   ],
   "source": [
    "df.plot(\n",
    "    y='Age',\n",
    "    xlim=(0, 100),\n",
    "    kind='kde'\n",
    ");"
   ]
  },
  {
   "cell_type": "markdown",
   "id": "BDnue_BWhLmF",
   "metadata": {
    "id": "BDnue_BWhLmF"
   },
   "source": [
    "### 6.7 Scatterplot\n",
    "A scatterplot is used to observe and show relationships between two quantitative variables for different category items. Each member of the dataset gets plotted as a point whose x-y coordinates relate to its values for the two variables. Below we will plot a scatterplot to display relationships between Age and Amount_spent columns. "
   ]
  },
  {
   "cell_type": "code",
   "execution_count": 87,
   "id": "zF0yBKd8hObb",
   "metadata": {
    "colab": {
     "base_uri": "https://localhost:8080/",
     "height": 54
    },
    "id": "zF0yBKd8hObb",
    "outputId": "035238ef-1a69-4561-d4cd-9039dfab7a27"
   },
   "outputs": [
    {
     "data": {
      "image/png": "[encoded data removed]",
      "text/plain": [
       "<Figure size 432x288 with 1 Axes>"
      ]
     },
     "metadata": {
      "needs_background": "light"
     },
     "output_type": "display_data"
    }
   ],
   "source": [
    "df.plot(\n",
    "    x='Age',\n",
    "    y='Amount_spent',\n",
    "    kind='scatter'\n",
    ");"
   ]
  },
  {
   "cell_type": "markdown",
   "id": "a9414a18",
   "metadata": {
    "id": "8f734a86"
   },
   "source": [
    "## 7. Reference\n",
    "\n",
    "\n",
    "1. [Pandas user guide](https://pandas.pydata.org/docs/user_guide/index.html)\n",
    "2. [Pandas 1.x Cookbook](https://www.packtpub.com/product/pandas-1-x-cookbook-second-edition/9781839213106)\n",
    "3. [The Data Wrangling Workshop](https://www.packtpub.com/product/the-data-wrangling-workshop-second-edition/9781839215001) \n",
    "4. [Python for Data Analysis](https://www.oreilly.com/library/view/python-for-data/9781449323592/)\n",
    "5. [Data Analysis with Python: Zero to Pandas - Jovian YouTube Channel](https://www.youtube.com/watch?v=BaV4PRXYNIY&list=PLyMom0n-MBrpzC91Uo560S4VbsiLYtCwo)\n",
    "6. [Best practices with pandas - Data School YouTube Channel](https://www.youtube.com/watch?v=hl-TGI4550M&list=PL5-da3qGB5IBITZj_dYSFqnd_15JgqwA6)\n",
    "7. [Pandas Tutorials - Corey Schafer YouTube Channel](https://www.youtube.com/watch?v=ZyhVh-qRZPA&list=PL-osiE80TeTsWmV9i9c58mdDCSskIFdDS)\n",
    "8. [Pandas Crosstab Explained](https://pbpython.com/pandas-crosstab.html)"
   ]
  }
 ],
 "metadata": {
  "colab": {
   "collapsed_sections": [
    "q72dXwaog4h7",
    "68cb06b1",
    "2098e35f",
    "44ff83e8",
    "5UgQzwrITZk3",
    "6bxAq9hnUK4R",
    "2980dcd0",
    "QyO24xKLTEEm",
    "YC_ucd2fXzjD",
    "d9d6f71f",
    "4e3b208b",
    "CZnzwDXQg35f",
    "x0r-TXU244iu",
    "2c7fbc9c"
   ],
   "name": "artical-medium.ipynb",
   "provenance": []
  },
  "kernelspec": {
   "display_name": "Python 3",
   "language": "python",
   "name": "python3"
  },
  "language_info": {
   "codemirror_mode": {
    "name": "ipython",
    "version": 3
   },
   "file_extension": ".py",
   "mimetype": "text/x-python",
   "name": "python",
   "nbconvert_exporter": "python",
   "pygments_lexer": "ipython3",
   "version": "3.8.8"
  }
 },
 "nbformat": 4,
 "nbformat_minor": 5
}
